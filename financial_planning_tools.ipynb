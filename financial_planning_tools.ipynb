{
 "cells": [
  {
   "cell_type": "markdown",
   "metadata": {},
   "source": [
    "# Financial Planning with APIs and Simulations\n",
    "\n",
    "In this Challenge, you’ll create two financial analysis tools by using a single Jupyter notebook:\n",
    "\n",
    "Part 1: A financial planner for emergencies. The members will be able to use this tool to visualize their current savings. The members can then determine if they have enough reserves for an emergency fund.\n",
    "\n",
    "Part 2: A financial planner for retirement. This tool will forecast the performance of their retirement portfolio in 30 years. To do this, the tool will make an Alpaca API call via the Alpaca SDK to get historical price data for use in Monte Carlo simulations.\n",
    "\n",
    "You’ll use the information from the Monte Carlo simulation to answer questions about the portfolio in your Jupyter notebook.\n",
    "\n"
   ]
  },
  {
   "cell_type": "code",
   "execution_count": 1,
   "metadata": {},
   "outputs": [],
   "source": [
    "# Import the required libraries and dependencies\n",
    "import os\n",
    "import requests\n",
    "import json\n",
    "import pandas as pd\n",
    "from dotenv import load_dotenv\n",
    "import alpaca_trade_api as tradeapi\n",
    "from MCForecastTools import MCSimulation\n",
    "\n",
    "%matplotlib inline"
   ]
  },
  {
   "cell_type": "code",
   "execution_count": 2,
   "metadata": {},
   "outputs": [
    {
     "data": {
      "text/plain": [
       "True"
      ]
     },
     "execution_count": 2,
     "metadata": {},
     "output_type": "execute_result"
    }
   ],
   "source": [
    "# Load the environment variables from the .env file\n",
    "#by calling the load_dotenv function\n",
    "load_dotenv()"
   ]
  },
  {
   "cell_type": "markdown",
   "metadata": {},
   "source": [
    "## Part 1: Create a Financial Planner for Emergencies"
   ]
  },
  {
   "cell_type": "markdown",
   "metadata": {},
   "source": [
    "### Evaluate the Cryptocurrency Wallet by Using the Requests Library\n",
    "\n",
    "In this section, you’ll determine the current value of a member’s cryptocurrency wallet. You’ll collect the current prices for the Bitcoin and Ethereum cryptocurrencies by using the Python Requests library. For the prototype, you’ll assume that the member holds the 1.2 Bitcoins (BTC) and 5.3 Ethereum coins (ETH). To do all this, complete the following steps:\n",
    "\n",
    "1. Create a variable named `monthly_income`, and set its value to `12000`.\n",
    "\n",
    "2. Use the Requests library to get the current price (in US dollars) of Bitcoin (BTC) and Ethereum (ETH) by using the API endpoints that the starter code supplies.\n",
    "\n",
    "3. Navigate the JSON response object to access the current price of each coin, and store each in a variable.\n",
    "\n",
    "    > **Hint** Note the specific identifier for each cryptocurrency in the API JSON response. The Bitcoin identifier is `1`, and the Ethereum identifier is `1027`.\n",
    "\n",
    "4. Calculate the value, in US dollars, of the current amount of each cryptocurrency and of the entire cryptocurrency wallet.\n",
    "\n"
   ]
  },
  {
   "cell_type": "code",
   "execution_count": 3,
   "metadata": {},
   "outputs": [],
   "source": [
    "# The current number of coins for each cryptocurrency asset held in the portfolio.\n",
    "btc_coins = 1.2\n",
    "eth_coins = 5.3"
   ]
  },
  {
   "cell_type": "markdown",
   "metadata": {},
   "source": [
    "#### Step 1: Create a variable named `monthly_income`, and set its value to `12000`."
   ]
  },
  {
   "cell_type": "code",
   "execution_count": 4,
   "metadata": {},
   "outputs": [],
   "source": [
    "# The monthly amount for the member's household income\n",
    "monthly_income = 12000\n"
   ]
  },
  {
   "cell_type": "markdown",
   "metadata": {},
   "source": [
    "#### Review the endpoint URLs for the API calls to Free Crypto API in order to get the current pricing information for both BTC and ETH."
   ]
  },
  {
   "cell_type": "code",
   "execution_count": 5,
   "metadata": {},
   "outputs": [],
   "source": [
    "# The Free Crypto API Call endpoint URLs for the held cryptocurrency assets\n",
    "btc_url = \"https://api.alternative.me/v2/ticker/Bitcoin/?convert=USD\"\n",
    "eth_url = \"https://api.alternative.me/v2/ticker/Ethereum/?convert=USD\""
   ]
  },
  {
   "cell_type": "markdown",
   "metadata": {},
   "source": [
    "#### Step 2. Use the Requests library to get the current price (in US dollars) of Bitcoin (BTC) and Ethereum (ETH) by using the API endpoints that the starter code supplied."
   ]
  },
  {
   "cell_type": "code",
   "execution_count": 6,
   "metadata": {},
   "outputs": [
    {
     "name": "stdout",
     "output_type": "stream",
     "text": [
      "{\n",
      "    \"data\": {\n",
      "        \"1\": {\n",
      "            \"circulating_supply\": 18933087,\n",
      "            \"id\": 1,\n",
      "            \"last_updated\": 1642515501,\n",
      "            \"max_supply\": 21000000,\n",
      "            \"name\": \"Bitcoin\",\n",
      "            \"quotes\": {\n",
      "                \"USD\": {\n",
      "                    \"market_cap\": 788607196909,\n",
      "                    \"percent_change_1h\": -0.0794129007597514,\n",
      "                    \"percent_change_24h\": -2.56651557175622,\n",
      "                    \"percent_change_7d\": -0.677888691507399,\n",
      "                    \"percentage_change_1h\": -0.0794129007597514,\n",
      "                    \"percentage_change_24h\": -2.56651557175622,\n",
      "                    \"percentage_change_7d\": -0.677888691507399,\n",
      "                    \"price\": 41586.0,\n",
      "                    \"volume_24h\": 18383343303\n",
      "                }\n",
      "            },\n",
      "            \"rank\": 1,\n",
      "            \"symbol\": \"BTC\",\n",
      "            \"total_supply\": 18933087,\n",
      "            \"website_slug\": \"bitcoin\"\n",
      "        }\n",
      "    },\n",
      "    \"metadata\": {\n",
      "        \"error\": null,\n",
      "        \"num_cryptocurrencies\": 3105,\n",
      "        \"timestamp\": 1642515501\n",
      "    }\n",
      "}\n"
     ]
    }
   ],
   "source": [
    "# Using the Python requests library, make an API call to access the current price of BTC\n",
    "btc_response = requests.get(btc_url).json()\n",
    "\n",
    "# Use the json.dumps function to review the response data from the API call\n",
    "# Use the indent and sort_keys parameters to make the response object readable\n",
    "\n",
    "print(json.dumps(btc_response, indent=4, sort_keys=True))\n",
    "\n"
   ]
  },
  {
   "cell_type": "code",
   "execution_count": 7,
   "metadata": {},
   "outputs": [
    {
     "name": "stdout",
     "output_type": "stream",
     "text": [
      "{\n",
      "    \"data\": {\n",
      "        \"1027\": {\n",
      "            \"circulating_supply\": 119211281,\n",
      "            \"id\": 1027,\n",
      "            \"last_updated\": 1642515496,\n",
      "            \"max_supply\": 0,\n",
      "            \"name\": \"Ethereum\",\n",
      "            \"quotes\": {\n",
      "                \"USD\": {\n",
      "                    \"market_cap\": 374255209421,\n",
      "                    \"percent_change_1h\": -0.534860303458207,\n",
      "                    \"percent_change_24h\": -4.33586247358149,\n",
      "                    \"percent_change_7d\": 1.3736828931189,\n",
      "                    \"percentage_change_1h\": -0.534860303458207,\n",
      "                    \"percentage_change_24h\": -4.33586247358149,\n",
      "                    \"percentage_change_7d\": 1.3736828931189,\n",
      "                    \"price\": 3129.13,\n",
      "                    \"volume_24h\": 12323178403\n",
      "                }\n",
      "            },\n",
      "            \"rank\": 2,\n",
      "            \"symbol\": \"ETH\",\n",
      "            \"total_supply\": 119211281,\n",
      "            \"website_slug\": \"ethereum\"\n",
      "        }\n",
      "    },\n",
      "    \"metadata\": {\n",
      "        \"error\": null,\n",
      "        \"num_cryptocurrencies\": 3105,\n",
      "        \"timestamp\": 1642515496\n",
      "    }\n",
      "}\n"
     ]
    }
   ],
   "source": [
    "# Using the Python requests library, make an API call to access the current price ETH\n",
    "eth_response = requests.get(eth_url).json()\n",
    "\n",
    "# Use the json.dumps function to review the response data from the API call\n",
    "# Use the indent and sort_keys parameters to make the response object readable\n",
    "print(json.dumps(eth_response, indent=4, sort_keys=True))\n"
   ]
  },
  {
   "cell_type": "markdown",
   "metadata": {},
   "source": [
    "#### Step 3: Navigate the JSON response object to access the current price of each coin, and store each in a variable."
   ]
  },
  {
   "cell_type": "code",
   "execution_count": 8,
   "metadata": {},
   "outputs": [
    {
     "name": "stdout",
     "output_type": "stream",
     "text": [
      "The current price for Bitcoin is $41,586.00.\n"
     ]
    }
   ],
   "source": [
    "# Navigate the BTC response object to access the current price of BTC\n",
    "btc_price = btc_response['data']['1']['quotes']['USD']['price']\n",
    "\n",
    "# Print the current price of BTC\n",
    "# YOUR CODE HERE\n",
    "print(f\"The current price for Bitcoin is ${btc_price:,.2f}.\")"
   ]
  },
  {
   "cell_type": "code",
   "execution_count": 9,
   "metadata": {},
   "outputs": [
    {
     "name": "stdout",
     "output_type": "stream",
     "text": [
      "The current price for Ether is $3,129.13.\n"
     ]
    }
   ],
   "source": [
    "# Navigate the BTC response object to access the current price of ETH\n",
    "eth_price = eth_response['data']['1027']['quotes']['USD']['price']\n",
    "\n",
    "# Print the current price of ETH\n",
    "# YOUR CODE HERE\n",
    "print(f\"The current price for Ether is ${eth_price:,.2f}.\")"
   ]
  },
  {
   "cell_type": "markdown",
   "metadata": {},
   "source": [
    "### Step 4: Calculate the value, in US dollars, of the current amount of each cryptocurrency and of the entire cryptocurrency wallet."
   ]
  },
  {
   "cell_type": "code",
   "execution_count": 10,
   "metadata": {},
   "outputs": [
    {
     "name": "stdout",
     "output_type": "stream",
     "text": [
      "The current value of your Bitcoin wallet is $49,903.20.\n"
     ]
    }
   ],
   "source": [
    "# Compute the current value of the BTC holding \n",
    "btc_value = btc_price * btc_coins\n",
    "\n",
    "# Print current value of your holding in BTC\n",
    "# YOUR CODE HERE\n",
    "print(f\"The current value of your Bitcoin wallet is ${btc_value:,.2f}.\")"
   ]
  },
  {
   "cell_type": "code",
   "execution_count": 11,
   "metadata": {},
   "outputs": [
    {
     "name": "stdout",
     "output_type": "stream",
     "text": [
      "The current value of your Ether wallet is $16,584.39.\n"
     ]
    }
   ],
   "source": [
    "# Compute the current value of the ETH holding \n",
    "eth_value = eth_coins * eth_price\n",
    "\n",
    "# Print current value of your holding in ETH\n",
    "# YOUR CODE HERE\n",
    "print(f\"The current value of your Ether wallet is ${eth_value:,.2f}.\")"
   ]
  },
  {
   "cell_type": "code",
   "execution_count": 12,
   "metadata": {},
   "outputs": [
    {
     "name": "stdout",
     "output_type": "stream",
     "text": [
      "The current value of your cryptocurrency wallet is $66,487.59.\n"
     ]
    }
   ],
   "source": [
    "# Compute the total value of the cryptocurrency wallet\n",
    "# Add the value of the BTC holding to the value of the ETH holding\n",
    "total_crypto_wallet = eth_value + btc_value\n",
    "\n",
    "# Print current cryptocurrency wallet balance\n",
    "# YOUR CODE HERE\n",
    "print(f\"The current value of your cryptocurrency wallet is ${total_crypto_wallet:,.2f}.\")\n"
   ]
  },
  {
   "cell_type": "markdown",
   "metadata": {},
   "source": [
    "### Evaluate the Stock and Bond Holdings by Using the Alpaca SDK\n",
    "\n",
    "In this section, you’ll determine the current value of a member’s stock and bond holdings. You’ll make an API call to Alpaca via the Alpaca SDK to get the current closing prices of the SPDR S&P 500 ETF Trust (ticker: SPY) and of the iShares Core US Aggregate Bond ETF (ticker: AGG). For the prototype, assume that the member holds 110 shares of SPY, which represents the stock portion of their portfolio, and 200 shares of AGG, which represents the bond portion. To do all this, complete the following steps:\n",
    "\n",
    "1. In the `Starter_Code` folder, create an environment file (`.env`) to store the values of your Alpaca API key and Alpaca secret key.\n",
    "\n",
    "2. Set the variables for the Alpaca API and secret keys. Using the Alpaca SDK, create the Alpaca `tradeapi.REST` object. In this object, include the parameters for the Alpaca API key, the secret key, and the version number.\n",
    "\n",
    "3. Set the following parameters for the Alpaca API call:\n",
    "\n",
    "    - `tickers`: Use the tickers for the member’s stock and bond holdings.\n",
    "\n",
    "    - `timeframe`: Use a time frame of one day.\n",
    "\n",
    "    - `start_date` and `end_date`: Use the same date for these parameters, and format them with the date of the previous weekday (or `2020-08-07`). This is because you want the one closing price for the most-recent trading day.\n",
    "\n",
    "4. Get the current closing prices for `SPY` and `AGG` by using the Alpaca `get_barset` function. Format the response as a Pandas DataFrame by including the `df` property at the end of the `get_barset` function.\n",
    "\n",
    "5. Navigating the Alpaca response DataFrame, select the `SPY` and `AGG` closing prices, and store them as variables.\n",
    "\n",
    "6. Calculate the value, in US dollars, of the current amount of shares in each of the stock and bond portions of the portfolio, and print the results.\n"
   ]
  },
  {
   "cell_type": "markdown",
   "metadata": {},
   "source": [
    "#### Review the total number of shares held in both (SPY) and (AGG)."
   ]
  },
  {
   "cell_type": "code",
   "execution_count": 13,
   "metadata": {},
   "outputs": [],
   "source": [
    "# Current amount of shares held in both the stock (SPY) and bond (AGG) portion of the portfolio.\n",
    "spy_shares = 110\n",
    "agg_shares = 200\n"
   ]
  },
  {
   "cell_type": "markdown",
   "metadata": {},
   "source": [
    "#### Step 1: In the `Starter_Code` folder, create an environment file (`.env`) to store the values of your Alpaca API key and Alpaca secret key."
   ]
  },
  {
   "cell_type": "markdown",
   "metadata": {},
   "source": [
    "#### Step 2: Set the variables for the Alpaca API and secret keys. Using the Alpaca SDK, create the Alpaca `tradeapi.REST` object. In this object, include the parameters for the Alpaca API key, the secret key, and the version number."
   ]
  },
  {
   "cell_type": "code",
   "execution_count": 14,
   "metadata": {},
   "outputs": [
    {
     "data": {
      "text/plain": [
       "str"
      ]
     },
     "metadata": {},
     "output_type": "display_data"
    },
    {
     "data": {
      "text/plain": [
       "str"
      ]
     },
     "metadata": {},
     "output_type": "display_data"
    }
   ],
   "source": [
    "# Set the variables for the Alpaca API and secret keys\n",
    "alpaca_api_key = os.getenv(\"ALPACA_API_KEY\")\n",
    "alpaca_secret_key = os.getenv(\"ALPACA_SECRET_KEY\")\n",
    "display(type(alpaca_api_key))\n",
    "display(type(alpaca_secret_key))\n",
    "\n",
    "# Create the Alpaca tradeapi.REST object\n",
    "alpaca = tradeapi.REST(\n",
    "    alpaca_api_key,\n",
    "    alpaca_secret_key,\n",
    "    api_version=\"v2\")\n"
   ]
  },
  {
   "cell_type": "markdown",
   "metadata": {},
   "source": [
    "#### Step 3: Set the following parameters for the Alpaca API call:\n",
    "\n",
    "- `tickers`: Use the tickers for the member’s stock and bond holdings.\n",
    "\n",
    "- `timeframe`: Use a time frame of one day.\n",
    "\n",
    "- `start_date` and `end_date`: Use the same date for these parameters, and format them with the date of the previous weekday (or `2020-08-07`). This is because you want the one closing price for the most-recent trading day.\n"
   ]
  },
  {
   "cell_type": "code",
   "execution_count": 15,
   "metadata": {},
   "outputs": [],
   "source": [
    "# Set the tickers for both the bond and stock portion of the portfolio\n",
    "tickers = [\"SPY\", \"AGG\"]\n",
    "# Set timeframe to 1D \n",
    "timeframe = \"1D\"\n",
    "\n",
    "# Format current date as ISO format\n",
    "# Set both the start and end date at the date of your prior weekday \n",
    "# This will give you the closing price of the previous trading day\n",
    "# Alternatively you can use a start and end date of 2020-08-07\n",
    "start_date = pd.Timestamp(\"2022-01-14\", tz=\"America/New_York\").isoformat()\n",
    "end_date = pd.Timestamp(\"2022-01-14\", tz=\"America/New_York\").isoformat()\n"
   ]
  },
  {
   "cell_type": "markdown",
   "metadata": {},
   "source": [
    "#### Step 4: Get the current closing prices for `SPY` and `AGG` by using the Alpaca `get_barset` function. Format the response as a Pandas DataFrame by including the `df` property at the end of the `get_barset` function."
   ]
  },
  {
   "cell_type": "code",
   "execution_count": 16,
   "metadata": {},
   "outputs": [
    {
     "data": {
      "text/html": [
       "<div>\n",
       "<style scoped>\n",
       "    .dataframe tbody tr th:only-of-type {\n",
       "        vertical-align: middle;\n",
       "    }\n",
       "\n",
       "    .dataframe tbody tr th {\n",
       "        vertical-align: top;\n",
       "    }\n",
       "\n",
       "    .dataframe thead tr th {\n",
       "        text-align: left;\n",
       "    }\n",
       "\n",
       "    .dataframe thead tr:last-of-type th {\n",
       "        text-align: right;\n",
       "    }\n",
       "</style>\n",
       "<table border=\"1\" class=\"dataframe\">\n",
       "  <thead>\n",
       "    <tr>\n",
       "      <th></th>\n",
       "      <th colspan=\"5\" halign=\"left\">AGG</th>\n",
       "      <th colspan=\"5\" halign=\"left\">SPY</th>\n",
       "    </tr>\n",
       "    <tr>\n",
       "      <th></th>\n",
       "      <th>open</th>\n",
       "      <th>high</th>\n",
       "      <th>low</th>\n",
       "      <th>close</th>\n",
       "      <th>volume</th>\n",
       "      <th>open</th>\n",
       "      <th>high</th>\n",
       "      <th>low</th>\n",
       "      <th>close</th>\n",
       "      <th>volume</th>\n",
       "    </tr>\n",
       "    <tr>\n",
       "      <th>time</th>\n",
       "      <th></th>\n",
       "      <th></th>\n",
       "      <th></th>\n",
       "      <th></th>\n",
       "      <th></th>\n",
       "      <th></th>\n",
       "      <th></th>\n",
       "      <th></th>\n",
       "      <th></th>\n",
       "      <th></th>\n",
       "    </tr>\n",
       "  </thead>\n",
       "  <tbody>\n",
       "    <tr>\n",
       "      <th>2022-01-14 00:00:00-05:00</th>\n",
       "      <td>112.53</td>\n",
       "      <td>112.545</td>\n",
       "      <td>112.15</td>\n",
       "      <td>112.17</td>\n",
       "      <td>8362916</td>\n",
       "      <td>461.19</td>\n",
       "      <td>465.09</td>\n",
       "      <td>459.9</td>\n",
       "      <td>464.68</td>\n",
       "      <td>84363989</td>\n",
       "    </tr>\n",
       "  </tbody>\n",
       "</table>\n",
       "</div>"
      ],
      "text/plain": [
       "                              AGG                                       SPY  \\\n",
       "                             open     high     low   close   volume    open   \n",
       "time                                                                          \n",
       "2022-01-14 00:00:00-05:00  112.53  112.545  112.15  112.17  8362916  461.19   \n",
       "\n",
       "                                                            \n",
       "                             high    low   close    volume  \n",
       "time                                                        \n",
       "2022-01-14 00:00:00-05:00  465.09  459.9  464.68  84363989  "
      ]
     },
     "execution_count": 16,
     "metadata": {},
     "output_type": "execute_result"
    }
   ],
   "source": [
    "# Use the Alpaca get_barset function to get current closing prices the portfolio\n",
    "# Be sure to set the `df` property after the function to format the response object as a DataFrame\n",
    "prices_df = alpaca.get_barset(\n",
    "  tickers,\n",
    "  timeframe,\n",
    "  start=start_date,\n",
    "  end=end_date\n",
    ").df\n",
    "\n",
    "# Review the first 5 rows of the Alpaca DataFrame\n",
    "prices_df.head()\n"
   ]
  },
  {
   "cell_type": "markdown",
   "metadata": {},
   "source": [
    "#### Step 5: Navigating the Alpaca response DataFrame, select the `SPY` and `AGG` closing prices, and store them as variables."
   ]
  },
  {
   "cell_type": "code",
   "execution_count": 17,
   "metadata": {},
   "outputs": [
    {
     "name": "stdout",
     "output_type": "stream",
     "text": [
      "The most recent closing price of your bond fund (AGG) is $112.17.\n"
     ]
    }
   ],
   "source": [
    "# Access the closing price for AGG from the Alpaca DataFrame\n",
    "# Converting the value to a floating point number\n",
    "agg_close_price = float(prices_df[\"AGG\"][\"close\"])\n",
    "\n",
    "# Print the AGG closing price\n",
    "print(f\"The most recent closing price of your bond fund (AGG) is ${agg_close_price:,.2f}.\")\n",
    "\n"
   ]
  },
  {
   "cell_type": "code",
   "execution_count": 18,
   "metadata": {},
   "outputs": [
    {
     "name": "stdout",
     "output_type": "stream",
     "text": [
      "The most recent closing price of your stock fund (SPY) is $464.68.\n"
     ]
    }
   ],
   "source": [
    "# Access the closing price for SPY from the Alpaca DataFrame\n",
    "# Converting the value to a floating point number\n",
    "spy_close_price = float(prices_df[\"SPY\"][\"close\"])\n",
    "\n",
    "# Print the SPY closing price\n",
    "print(f\"The most recent closing price of your stock fund (SPY) is ${spy_close_price:,.2f}.\")\n"
   ]
  },
  {
   "cell_type": "markdown",
   "metadata": {},
   "source": [
    "#### Step 6: Calculate the value, in US dollars, of the current amount of shares in each of the stock and bond portions of the portfolio, and print the results."
   ]
  },
  {
   "cell_type": "code",
   "execution_count": 19,
   "metadata": {},
   "outputs": [
    {
     "name": "stdout",
     "output_type": "stream",
     "text": [
      "The current value of your bond portfolio is $22,434.00.\n"
     ]
    }
   ],
   "source": [
    "# Calculate the current value of the bond portion of the portfolio\n",
    "agg_value = agg_close_price * agg_shares\n",
    "\n",
    "agg_value\n",
    "\n",
    "\n",
    "# Print the current value of the bond portfolio\n",
    "print(f\"The current value of your bond portfolio is ${agg_value:,.2f}.\")\n"
   ]
  },
  {
   "cell_type": "code",
   "execution_count": 20,
   "metadata": {},
   "outputs": [
    {
     "name": "stdout",
     "output_type": "stream",
     "text": [
      "The current value of your stock portfolio is $51,114.80.\n"
     ]
    }
   ],
   "source": [
    "# Calculate the current value of the stock portion of the portfolio\n",
    "spy_value = spy_close_price * spy_shares\n",
    "\n",
    "# Print the current value of the stock portfolio\n",
    "print(f\"The current value of your stock portfolio is ${spy_value:,.2f}.\")"
   ]
  },
  {
   "cell_type": "code",
   "execution_count": 21,
   "metadata": {},
   "outputs": [
    {
     "name": "stdout",
     "output_type": "stream",
     "text": [
      "The current value of your combined bond and stock portfolio is $73,548.80.\n"
     ]
    }
   ],
   "source": [
    "# Calculate the total value of the stock and bond portion of the portfolio\n",
    "total_stocks_bonds = spy_value + agg_value\n",
    "\n",
    "# Print the current balance of the stock and bond portion of the portfolio\n",
    "print(f\"The current value of your combined bond and stock portfolio is ${total_stocks_bonds:,.2f}.\")"
   ]
  },
  {
   "cell_type": "code",
   "execution_count": 22,
   "metadata": {},
   "outputs": [
    {
     "name": "stdout",
     "output_type": "stream",
     "text": [
      "The current value of your combined bond, stock, and cryptocurrency portfolio is $140,036.39.\n"
     ]
    }
   ],
   "source": [
    "# Calculate the total value of the member's entire savings portfolio\n",
    "# Add the value of the cryptocurrency walled to the value of the total stocks and bonds\n",
    "total_portfolio = total_stocks_bonds + total_crypto_wallet\n",
    "\n",
    "print(f\"The current value of your combined bond, stock, and cryptocurrency portfolio is ${total_portfolio:,.2f}.\")"
   ]
  },
  {
   "cell_type": "markdown",
   "metadata": {},
   "source": [
    "### Evaluate the Emergency Fund\n",
    "\n",
    "In this section, you’ll use the valuations for the cryptocurrency wallet and for the stock and bond portions of the portfolio to determine if the credit union member has enough savings to build an emergency fund into their financial plan. To do this, complete the following steps:\n",
    "\n",
    "1. Create a Python list named `savings_data` that has two elements. The first element contains the total value of the cryptocurrency wallet. The second element contains the total value of the stock and bond portions of the portfolio.\n",
    "\n",
    "2. Use the `savings_data` list to create a Pandas DataFrame named `savings_df`, and then display this DataFrame. The function to create the DataFrame should take the following three parameters:\n",
    "\n",
    "    - `savings_data`: Use the list that you just created.\n",
    "\n",
    "    - `columns`: Set this parameter equal to a Python list with a single value called `amount`.\n",
    "\n",
    "    - `index`: Set this parameter equal to a Python list with the values of `crypto` and `stock/bond`.\n",
    "\n",
    "3. Use the `savings_df` DataFrame to plot a pie chart that visualizes the composition of the member’s portfolio. The y-axis of the pie chart uses `amount`. Be sure to add a title.\n",
    "\n",
    "4. Using Python, determine if the current portfolio has enough to create an emergency fund as part of the member’s financial plan. Ideally, an emergency fund should equal to three times the member’s monthly income. To do this, implement the following steps:\n",
    "\n",
    "    1. Create a variable named `emergency_fund_value`, and set it equal to three times the value of the member’s `monthly_income` of $12000. (You set this earlier in Part 1).\n",
    "\n",
    "    2. Create a series of three if statements to determine if the member’s total portfolio is large enough to fund the emergency portfolio:\n",
    "\n",
    "        1. If the total portfolio value is greater than the emergency fund value, display a message congratulating the member for having enough money in this fund.\n",
    "\n",
    "        2. Else if the total portfolio value is equal to the emergency fund value, display a message congratulating the member on reaching this important financial goal.\n",
    "\n",
    "        3. Else the total portfolio is less than the emergency fund value, so display a message showing how many dollars away the member is from reaching the goal. (Subtract the total portfolio value from the emergency fund value.)\n"
   ]
  },
  {
   "cell_type": "markdown",
   "metadata": {},
   "source": [
    "#### Step 1: Create a Python list named `savings_data` that has two elements. The first element contains the total value of the cryptocurrency wallet. The second element contains the total value of the stock and bond portions of the portfolio."
   ]
  },
  {
   "cell_type": "code",
   "execution_count": 23,
   "metadata": {},
   "outputs": [
    {
     "data": {
      "text/plain": [
       "[66487.58899999999, 73548.8]"
      ]
     },
     "execution_count": 23,
     "metadata": {},
     "output_type": "execute_result"
    }
   ],
   "source": [
    "# Consolidate financial assets data into a Python list\n",
    "savings_data = [total_crypto_wallet, total_stocks_bonds]\n",
    "\n",
    "# Review the Python list savings_data\n",
    "# YOUR CODE HERE\n",
    "savings_data"
   ]
  },
  {
   "cell_type": "markdown",
   "metadata": {},
   "source": [
    "#### Step 2: Use the `savings_data` list to create a Pandas DataFrame named `savings_df`, and then display this DataFrame. The function to create the DataFrame should take the following three parameters:\n",
    "\n",
    "- `savings_data`: Use the list that you just created.\n",
    "\n",
    "- `columns`: Set this parameter equal to a Python list with a single value called `amount`.\n",
    "\n",
    "- `index`: Set this parameter equal to a Python list with the values of `crypto` and `stock/bond`.\n"
   ]
  },
  {
   "cell_type": "code",
   "execution_count": 24,
   "metadata": {},
   "outputs": [
    {
     "data": {
      "text/html": [
       "<div>\n",
       "<style scoped>\n",
       "    .dataframe tbody tr th:only-of-type {\n",
       "        vertical-align: middle;\n",
       "    }\n",
       "\n",
       "    .dataframe tbody tr th {\n",
       "        vertical-align: top;\n",
       "    }\n",
       "\n",
       "    .dataframe thead th {\n",
       "        text-align: right;\n",
       "    }\n",
       "</style>\n",
       "<table border=\"1\" class=\"dataframe\">\n",
       "  <thead>\n",
       "    <tr style=\"text-align: right;\">\n",
       "      <th></th>\n",
       "      <th>amount</th>\n",
       "    </tr>\n",
       "  </thead>\n",
       "  <tbody>\n",
       "    <tr>\n",
       "      <th>crypto</th>\n",
       "      <td>66487.589</td>\n",
       "    </tr>\n",
       "    <tr>\n",
       "      <th>stock/bond</th>\n",
       "      <td>73548.800</td>\n",
       "    </tr>\n",
       "  </tbody>\n",
       "</table>\n",
       "</div>"
      ],
      "text/plain": [
       "               amount\n",
       "crypto      66487.589\n",
       "stock/bond  73548.800"
      ]
     },
     "execution_count": 24,
     "metadata": {},
     "output_type": "execute_result"
    }
   ],
   "source": [
    "# Create a Pandas DataFrame called savings_df \n",
    "\n",
    "savings_df = pd.DataFrame(\n",
    "    savings_data,\n",
    "    columns=['amount'],\n",
    "    index=['crypto', 'stock/bond']\n",
    ")\n",
    "# Display the savings_df DataFrame\n",
    "savings_df\n",
    "\n",
    "\n"
   ]
  },
  {
   "cell_type": "markdown",
   "metadata": {},
   "source": [
    "#### Step 3: Use the `savings_df` DataFrame to plot a pie chart that visualizes the composition of the member’s portfolio. The y-axis of the pie chart uses `amount`. Be sure to add a title."
   ]
  },
  {
   "cell_type": "code",
   "execution_count": 25,
   "metadata": {},
   "outputs": [
    {
     "data": {
      "text/plain": [
       "<AxesSubplot:title={'center':'Portfolio Composition - Cryptocurrency v. Stocks and Bonds'}, ylabel='amount'>"
      ]
     },
     "execution_count": 25,
     "metadata": {},
     "output_type": "execute_result"
    },
    {
     "data": {
      "image/png": "[encoded data removed]",
      "text/plain": [
       "<Figure size 432x288 with 1 Axes>"
      ]
     },
     "metadata": {},
     "output_type": "display_data"
    }
   ],
   "source": [
    "# Plot the total value of the member's portfolio (crypto and stock/bond) in a pie chart\n",
    "savings_df.plot.pie(y='amount', title='Portfolio Composition - Cryptocurrency v. Stocks and Bonds')"
   ]
  },
  {
   "cell_type": "markdown",
   "metadata": {},
   "source": [
    "#### Step 4: Using Python, determine if the current portfolio has enough to create an emergency fund as part of the member’s financial plan. Ideally, an emergency fund should equal to three times the member’s monthly income. To do this, implement the following steps:\n",
    "\n",
    "Step 1. Create a variable named `emergency_fund_value`, and set it equal to three times the value of the member’s `monthly_income` of 12000. (You set this earlier in Part 1).\n",
    "\n",
    "Step 2. Create a series of three if statements to determine if the member’s total portfolio is large enough to fund the emergency portfolio:\n",
    "\n",
    "* If the total portfolio value is greater than the emergency fund value, display a message congratulating the member for having enough money in this fund.\n",
    "\n",
    "* Else if the total portfolio value is equal to the emergency fund value, display a message congratulating the member on reaching this important financial goal.\n",
    "\n",
    "* Else the total portfolio is less than the emergency fund value, so display a message showing how many dollars away the member is from reaching the goal. (Subtract the total portfolio value from the emergency fund value.)\n"
   ]
  },
  {
   "cell_type": "markdown",
   "metadata": {},
   "source": [
    "##### Step 4-1: Create a variable named `emergency_fund_value`, and set it equal to three times the value of the member’s `monthly_income` of 12000. (You set this earlier in Part 1)."
   ]
  },
  {
   "cell_type": "code",
   "execution_count": 26,
   "metadata": {},
   "outputs": [],
   "source": [
    "# Create a variable named emergency_fund_value\n",
    "emergency_fund_value = 3 * monthly_income"
   ]
  },
  {
   "cell_type": "markdown",
   "metadata": {},
   "source": [
    "##### Step 4-2: Create a series of three if statements to determine if the member’s total portfolio is large enough to fund the emergency portfolio:\n",
    "\n",
    "* If the total portfolio value is greater than the emergency fund value, display a message congratulating the member for having enough money in this fund.\n",
    "\n",
    "* Else if the total portfolio value is equal to the emergency fund value, display a message congratulating the member on reaching this important financial goal.\n",
    "\n",
    "* Else the total portfolio is less than the emergency fund value, so display a message showing how many dollars away the member is from reaching the goal. (Subtract the total portfolio value from the emergency fund value.)"
   ]
  },
  {
   "cell_type": "code",
   "execution_count": 27,
   "metadata": {},
   "outputs": [
    {
     "name": "stdout",
     "output_type": "stream",
     "text": [
      "Congratulations!  You have enough in your portfolio to serve as a reasonable emergency fund.\n"
     ]
    }
   ],
   "source": [
    "if total_portfolio > emergency_fund_value:\n",
    "    print(\"Congratulations!  You have enough in your portfolio to serve as a reasonable emergency fund.\")\n",
    "elif total_portfolio == emergency_fund_value:\n",
    "    print(\"Congratulations on reaching the goal of having enough value in your portfolio to serve as an emergency fund.\")\n",
    "else:\n",
    "    gap = emergency_fund_value - total_portfolio\n",
    "    print(f\"Keep working.  You need ${gap:,.2f} more in your portfolio to reach your goal of having an emergency fund.\")\n"
   ]
  },
  {
   "cell_type": "markdown",
   "metadata": {},
   "source": [
    "## Part 2: Create a Financial Planner for Retirement"
   ]
  },
  {
   "cell_type": "markdown",
   "metadata": {},
   "source": [
    "### Create the Monte Carlo Simulation\n",
    "\n",
    "In this section, you’ll use the MCForecastTools library to create a Monte Carlo simulation for the member’s savings portfolio. To do this, complete the following steps:\n",
    "\n",
    "1. Make an API call via the Alpaca SDK to get 3 years of historical closing prices for a traditional 60/40 portfolio split: 60% stocks (SPY) and 40% bonds (AGG).\n",
    "\n",
    "2. Run a Monte Carlo simulation of 500 samples and 30 years for the 60/40 portfolio, and then plot the results.The following image shows the overlay line plot resulting from a simulation with these characteristics. However, because a random number generator is used to run each live Monte Carlo simulation, your image will differ slightly from this exact image:\n",
    "\n",
    "![A screenshot depicts the resulting plot.](Images/5-4-monte-carlo-line-plot.png)\n",
    "\n",
    "3. Plot the probability distribution of the Monte Carlo simulation. Plot the probability distribution of the Monte Carlo simulation. The following image shows the histogram plot resulting from a simulation with these characteristics. However, because a random number generator is used to run each live Monte Carlo simulation, your image will differ slightly from this exact image:\n",
    "\n",
    "![A screenshot depicts the histogram plot.](Images/5-4-monte-carlo-histogram.png)\n",
    "\n",
    "4. Generate the summary statistics for the Monte Carlo simulation.\n",
    "\n"
   ]
  },
  {
   "cell_type": "markdown",
   "metadata": {},
   "source": [
    "#### Step 1: Make an API call via the Alpaca SDK to get 3 years of historical closing prices for a traditional 60/40 portfolio split: 60% stocks (SPY) and 40% bonds (AGG)."
   ]
  },
  {
   "cell_type": "code",
   "execution_count": 28,
   "metadata": {},
   "outputs": [],
   "source": [
    "# Set start and end dates of 3 years back from your current date\n",
    "# Alternatively, you can use an end date of 2020-08-07 and work 3 years back from that date \n",
    "start_date = pd.Timestamp(\"2019-01-15\", tz=\"America/New_York\").isoformat()\n",
    "end_date = pd.Timestamp(\"2022-01-15\", tz=\"America/New_York\").isoformat()\n",
    "\n",
    "# Set number of rows to 1000 to retrieve the maximum amount of rows\n",
    "limit_rows = 1000"
   ]
  },
  {
   "cell_type": "code",
   "execution_count": 29,
   "metadata": {},
   "outputs": [
    {
     "data": {
      "text/html": [
       "<div>\n",
       "<style scoped>\n",
       "    .dataframe tbody tr th:only-of-type {\n",
       "        vertical-align: middle;\n",
       "    }\n",
       "\n",
       "    .dataframe tbody tr th {\n",
       "        vertical-align: top;\n",
       "    }\n",
       "\n",
       "    .dataframe thead tr th {\n",
       "        text-align: left;\n",
       "    }\n",
       "\n",
       "    .dataframe thead tr:last-of-type th {\n",
       "        text-align: right;\n",
       "    }\n",
       "</style>\n",
       "<table border=\"1\" class=\"dataframe\">\n",
       "  <thead>\n",
       "    <tr>\n",
       "      <th></th>\n",
       "      <th colspan=\"5\" halign=\"left\">AGG</th>\n",
       "      <th colspan=\"5\" halign=\"left\">SPY</th>\n",
       "    </tr>\n",
       "    <tr>\n",
       "      <th></th>\n",
       "      <th>open</th>\n",
       "      <th>high</th>\n",
       "      <th>low</th>\n",
       "      <th>close</th>\n",
       "      <th>volume</th>\n",
       "      <th>open</th>\n",
       "      <th>high</th>\n",
       "      <th>low</th>\n",
       "      <th>close</th>\n",
       "      <th>volume</th>\n",
       "    </tr>\n",
       "    <tr>\n",
       "      <th>time</th>\n",
       "      <th></th>\n",
       "      <th></th>\n",
       "      <th></th>\n",
       "      <th></th>\n",
       "      <th></th>\n",
       "      <th></th>\n",
       "      <th></th>\n",
       "      <th></th>\n",
       "      <th></th>\n",
       "      <th></th>\n",
       "    </tr>\n",
       "  </thead>\n",
       "  <tbody>\n",
       "    <tr>\n",
       "      <th>2019-01-15 00:00:00-05:00</th>\n",
       "      <td>106.54</td>\n",
       "      <td>106.5500</td>\n",
       "      <td>106.3300</td>\n",
       "      <td>106.400</td>\n",
       "      <td>3370918</td>\n",
       "      <td>257.82</td>\n",
       "      <td>260.7000</td>\n",
       "      <td>257.250</td>\n",
       "      <td>260.21</td>\n",
       "      <td>72130969</td>\n",
       "    </tr>\n",
       "    <tr>\n",
       "      <th>2019-01-16 00:00:00-05:00</th>\n",
       "      <td>106.33</td>\n",
       "      <td>106.5200</td>\n",
       "      <td>105.7500</td>\n",
       "      <td>106.475</td>\n",
       "      <td>3531236</td>\n",
       "      <td>260.83</td>\n",
       "      <td>261.9666</td>\n",
       "      <td>260.600</td>\n",
       "      <td>260.94</td>\n",
       "      <td>59299089</td>\n",
       "    </tr>\n",
       "    <tr>\n",
       "      <th>2019-01-17 00:00:00-05:00</th>\n",
       "      <td>106.53</td>\n",
       "      <td>106.5300</td>\n",
       "      <td>106.3350</td>\n",
       "      <td>106.430</td>\n",
       "      <td>5184640</td>\n",
       "      <td>260.01</td>\n",
       "      <td>263.9200</td>\n",
       "      <td>259.960</td>\n",
       "      <td>262.88</td>\n",
       "      <td>79893207</td>\n",
       "    </tr>\n",
       "    <tr>\n",
       "      <th>2019-01-18 00:00:00-05:00</th>\n",
       "      <td>106.37</td>\n",
       "      <td>106.4799</td>\n",
       "      <td>106.2803</td>\n",
       "      <td>106.325</td>\n",
       "      <td>5666187</td>\n",
       "      <td>264.98</td>\n",
       "      <td>266.9800</td>\n",
       "      <td>262.998</td>\n",
       "      <td>266.16</td>\n",
       "      <td>99666883</td>\n",
       "    </tr>\n",
       "    <tr>\n",
       "      <th>2019-01-22 00:00:00-05:00</th>\n",
       "      <td>106.44</td>\n",
       "      <td>108.5100</td>\n",
       "      <td>106.4400</td>\n",
       "      <td>106.455</td>\n",
       "      <td>6646771</td>\n",
       "      <td>264.82</td>\n",
       "      <td>265.0600</td>\n",
       "      <td>261.060</td>\n",
       "      <td>261.97</td>\n",
       "      <td>88775864</td>\n",
       "    </tr>\n",
       "  </tbody>\n",
       "</table>\n",
       "</div>"
      ],
      "text/plain": [
       "                              AGG                                        \\\n",
       "                             open      high       low    close   volume   \n",
       "time                                                                      \n",
       "2019-01-15 00:00:00-05:00  106.54  106.5500  106.3300  106.400  3370918   \n",
       "2019-01-16 00:00:00-05:00  106.33  106.5200  105.7500  106.475  3531236   \n",
       "2019-01-17 00:00:00-05:00  106.53  106.5300  106.3350  106.430  5184640   \n",
       "2019-01-18 00:00:00-05:00  106.37  106.4799  106.2803  106.325  5666187   \n",
       "2019-01-22 00:00:00-05:00  106.44  108.5100  106.4400  106.455  6646771   \n",
       "\n",
       "                              SPY                                       \n",
       "                             open      high      low   close    volume  \n",
       "time                                                                    \n",
       "2019-01-15 00:00:00-05:00  257.82  260.7000  257.250  260.21  72130969  \n",
       "2019-01-16 00:00:00-05:00  260.83  261.9666  260.600  260.94  59299089  \n",
       "2019-01-17 00:00:00-05:00  260.01  263.9200  259.960  262.88  79893207  \n",
       "2019-01-18 00:00:00-05:00  264.98  266.9800  262.998  266.16  99666883  \n",
       "2019-01-22 00:00:00-05:00  264.82  265.0600  261.060  261.97  88775864  "
      ]
     },
     "metadata": {},
     "output_type": "display_data"
    },
    {
     "data": {
      "text/html": [
       "<div>\n",
       "<style scoped>\n",
       "    .dataframe tbody tr th:only-of-type {\n",
       "        vertical-align: middle;\n",
       "    }\n",
       "\n",
       "    .dataframe tbody tr th {\n",
       "        vertical-align: top;\n",
       "    }\n",
       "\n",
       "    .dataframe thead tr th {\n",
       "        text-align: left;\n",
       "    }\n",
       "\n",
       "    .dataframe thead tr:last-of-type th {\n",
       "        text-align: right;\n",
       "    }\n",
       "</style>\n",
       "<table border=\"1\" class=\"dataframe\">\n",
       "  <thead>\n",
       "    <tr>\n",
       "      <th></th>\n",
       "      <th colspan=\"5\" halign=\"left\">AGG</th>\n",
       "      <th colspan=\"5\" halign=\"left\">SPY</th>\n",
       "    </tr>\n",
       "    <tr>\n",
       "      <th></th>\n",
       "      <th>open</th>\n",
       "      <th>high</th>\n",
       "      <th>low</th>\n",
       "      <th>close</th>\n",
       "      <th>volume</th>\n",
       "      <th>open</th>\n",
       "      <th>high</th>\n",
       "      <th>low</th>\n",
       "      <th>close</th>\n",
       "      <th>volume</th>\n",
       "    </tr>\n",
       "    <tr>\n",
       "      <th>time</th>\n",
       "      <th></th>\n",
       "      <th></th>\n",
       "      <th></th>\n",
       "      <th></th>\n",
       "      <th></th>\n",
       "      <th></th>\n",
       "      <th></th>\n",
       "      <th></th>\n",
       "      <th></th>\n",
       "      <th></th>\n",
       "    </tr>\n",
       "  </thead>\n",
       "  <tbody>\n",
       "    <tr>\n",
       "      <th>2022-01-10 00:00:00-05:00</th>\n",
       "      <td>112.23</td>\n",
       "      <td>112.420</td>\n",
       "      <td>112.1427</td>\n",
       "      <td>112.41</td>\n",
       "      <td>6475269</td>\n",
       "      <td>462.70</td>\n",
       "      <td>465.74</td>\n",
       "      <td>456.5973</td>\n",
       "      <td>465.56</td>\n",
       "      <td>106360848</td>\n",
       "    </tr>\n",
       "    <tr>\n",
       "      <th>2022-01-11 00:00:00-05:00</th>\n",
       "      <td>112.33</td>\n",
       "      <td>112.630</td>\n",
       "      <td>112.2650</td>\n",
       "      <td>112.61</td>\n",
       "      <td>5723770</td>\n",
       "      <td>465.19</td>\n",
       "      <td>469.85</td>\n",
       "      <td>462.0500</td>\n",
       "      <td>469.74</td>\n",
       "      <td>62346155</td>\n",
       "    </tr>\n",
       "    <tr>\n",
       "      <th>2022-01-12 00:00:00-05:00</th>\n",
       "      <td>112.72</td>\n",
       "      <td>112.785</td>\n",
       "      <td>112.5800</td>\n",
       "      <td>112.60</td>\n",
       "      <td>6159865</td>\n",
       "      <td>471.59</td>\n",
       "      <td>473.20</td>\n",
       "      <td>468.9400</td>\n",
       "      <td>471.06</td>\n",
       "      <td>58775301</td>\n",
       "    </tr>\n",
       "    <tr>\n",
       "      <th>2022-01-13 00:00:00-05:00</th>\n",
       "      <td>112.60</td>\n",
       "      <td>112.800</td>\n",
       "      <td>112.5100</td>\n",
       "      <td>112.80</td>\n",
       "      <td>7925476</td>\n",
       "      <td>472.21</td>\n",
       "      <td>472.88</td>\n",
       "      <td>463.4400</td>\n",
       "      <td>464.54</td>\n",
       "      <td>79071832</td>\n",
       "    </tr>\n",
       "    <tr>\n",
       "      <th>2022-01-14 00:00:00-05:00</th>\n",
       "      <td>112.53</td>\n",
       "      <td>112.545</td>\n",
       "      <td>112.1500</td>\n",
       "      <td>112.17</td>\n",
       "      <td>8341976</td>\n",
       "      <td>461.19</td>\n",
       "      <td>465.09</td>\n",
       "      <td>459.9000</td>\n",
       "      <td>464.68</td>\n",
       "      <td>84172573</td>\n",
       "    </tr>\n",
       "  </tbody>\n",
       "</table>\n",
       "</div>"
      ],
      "text/plain": [
       "                              AGG                                         SPY  \\\n",
       "                             open     high       low   close   volume    open   \n",
       "time                                                                            \n",
       "2022-01-10 00:00:00-05:00  112.23  112.420  112.1427  112.41  6475269  462.70   \n",
       "2022-01-11 00:00:00-05:00  112.33  112.630  112.2650  112.61  5723770  465.19   \n",
       "2022-01-12 00:00:00-05:00  112.72  112.785  112.5800  112.60  6159865  471.59   \n",
       "2022-01-13 00:00:00-05:00  112.60  112.800  112.5100  112.80  7925476  472.21   \n",
       "2022-01-14 00:00:00-05:00  112.53  112.545  112.1500  112.17  8341976  461.19   \n",
       "\n",
       "                                                                \n",
       "                             high       low   close     volume  \n",
       "time                                                            \n",
       "2022-01-10 00:00:00-05:00  465.74  456.5973  465.56  106360848  \n",
       "2022-01-11 00:00:00-05:00  469.85  462.0500  469.74   62346155  \n",
       "2022-01-12 00:00:00-05:00  473.20  468.9400  471.06   58775301  \n",
       "2022-01-13 00:00:00-05:00  472.88  463.4400  464.54   79071832  \n",
       "2022-01-14 00:00:00-05:00  465.09  459.9000  464.68   84172573  "
      ]
     },
     "metadata": {},
     "output_type": "display_data"
    }
   ],
   "source": [
    "# Use the Alpaca get_barset function to make the API call to get the 3 years worth of pricing data\n",
    "# The tickers and timeframe parameters should have been set in Part 1 of this activity \n",
    "# The start and end dates should be updated with the information set above\n",
    "# Remember to add the df property to the end of the call so the response is returned as a DataFrame\n",
    "prices_df = alpaca.get_barset(\n",
    "  tickers,\n",
    "  timeframe,\n",
    "  start=start_date,\n",
    "  end=end_date,\n",
    "  limit=limit_rows\n",
    ").df\n",
    "\n",
    "\n",
    "# Display both the first and last five rows of the DataFrame\n",
    "display(prices_df.head())\n",
    "display(prices_df.tail())"
   ]
  },
  {
   "cell_type": "markdown",
   "metadata": {},
   "source": [
    "#### Step 2: Run a Monte Carlo simulation of 500 samples and 30 years for the 60/40 portfolio, and then plot the results."
   ]
  },
  {
   "cell_type": "code",
   "execution_count": 30,
   "metadata": {},
   "outputs": [
    {
     "data": {
      "text/html": [
       "<div>\n",
       "<style scoped>\n",
       "    .dataframe tbody tr th:only-of-type {\n",
       "        vertical-align: middle;\n",
       "    }\n",
       "\n",
       "    .dataframe tbody tr th {\n",
       "        vertical-align: top;\n",
       "    }\n",
       "\n",
       "    .dataframe thead tr th {\n",
       "        text-align: left;\n",
       "    }\n",
       "\n",
       "    .dataframe thead tr:last-of-type th {\n",
       "        text-align: right;\n",
       "    }\n",
       "</style>\n",
       "<table border=\"1\" class=\"dataframe\">\n",
       "  <thead>\n",
       "    <tr>\n",
       "      <th></th>\n",
       "      <th colspan=\"6\" halign=\"left\">AGG</th>\n",
       "      <th colspan=\"6\" halign=\"left\">SPY</th>\n",
       "    </tr>\n",
       "    <tr>\n",
       "      <th></th>\n",
       "      <th>open</th>\n",
       "      <th>high</th>\n",
       "      <th>low</th>\n",
       "      <th>close</th>\n",
       "      <th>volume</th>\n",
       "      <th>daily_return</th>\n",
       "      <th>open</th>\n",
       "      <th>high</th>\n",
       "      <th>low</th>\n",
       "      <th>close</th>\n",
       "      <th>volume</th>\n",
       "      <th>daily_return</th>\n",
       "    </tr>\n",
       "    <tr>\n",
       "      <th>time</th>\n",
       "      <th></th>\n",
       "      <th></th>\n",
       "      <th></th>\n",
       "      <th></th>\n",
       "      <th></th>\n",
       "      <th></th>\n",
       "      <th></th>\n",
       "      <th></th>\n",
       "      <th></th>\n",
       "      <th></th>\n",
       "      <th></th>\n",
       "      <th></th>\n",
       "    </tr>\n",
       "  </thead>\n",
       "  <tbody>\n",
       "    <tr>\n",
       "      <th>2019-01-15 00:00:00-05:00</th>\n",
       "      <td>106.54</td>\n",
       "      <td>106.5500</td>\n",
       "      <td>106.3300</td>\n",
       "      <td>106.400</td>\n",
       "      <td>3370918</td>\n",
       "      <td>NaN</td>\n",
       "      <td>257.82</td>\n",
       "      <td>260.7000</td>\n",
       "      <td>257.250</td>\n",
       "      <td>260.21</td>\n",
       "      <td>72130969</td>\n",
       "      <td>NaN</td>\n",
       "    </tr>\n",
       "    <tr>\n",
       "      <th>2019-01-16 00:00:00-05:00</th>\n",
       "      <td>106.33</td>\n",
       "      <td>106.5200</td>\n",
       "      <td>105.7500</td>\n",
       "      <td>106.475</td>\n",
       "      <td>3531236</td>\n",
       "      <td>0.000705</td>\n",
       "      <td>260.83</td>\n",
       "      <td>261.9666</td>\n",
       "      <td>260.600</td>\n",
       "      <td>260.94</td>\n",
       "      <td>59299089</td>\n",
       "      <td>0.002805</td>\n",
       "    </tr>\n",
       "    <tr>\n",
       "      <th>2019-01-17 00:00:00-05:00</th>\n",
       "      <td>106.53</td>\n",
       "      <td>106.5300</td>\n",
       "      <td>106.3350</td>\n",
       "      <td>106.430</td>\n",
       "      <td>5184640</td>\n",
       "      <td>-0.000423</td>\n",
       "      <td>260.01</td>\n",
       "      <td>263.9200</td>\n",
       "      <td>259.960</td>\n",
       "      <td>262.88</td>\n",
       "      <td>79893207</td>\n",
       "      <td>0.007435</td>\n",
       "    </tr>\n",
       "    <tr>\n",
       "      <th>2019-01-18 00:00:00-05:00</th>\n",
       "      <td>106.37</td>\n",
       "      <td>106.4799</td>\n",
       "      <td>106.2803</td>\n",
       "      <td>106.325</td>\n",
       "      <td>5666187</td>\n",
       "      <td>-0.000987</td>\n",
       "      <td>264.98</td>\n",
       "      <td>266.9800</td>\n",
       "      <td>262.998</td>\n",
       "      <td>266.16</td>\n",
       "      <td>99666883</td>\n",
       "      <td>0.012477</td>\n",
       "    </tr>\n",
       "    <tr>\n",
       "      <th>2019-01-22 00:00:00-05:00</th>\n",
       "      <td>106.44</td>\n",
       "      <td>108.5100</td>\n",
       "      <td>106.4400</td>\n",
       "      <td>106.455</td>\n",
       "      <td>6646771</td>\n",
       "      <td>0.001223</td>\n",
       "      <td>264.82</td>\n",
       "      <td>265.0600</td>\n",
       "      <td>261.060</td>\n",
       "      <td>261.97</td>\n",
       "      <td>88775864</td>\n",
       "      <td>-0.015742</td>\n",
       "    </tr>\n",
       "  </tbody>\n",
       "</table>\n",
       "</div>"
      ],
      "text/plain": [
       "                              AGG                                        \\\n",
       "                             open      high       low    close   volume   \n",
       "time                                                                      \n",
       "2019-01-15 00:00:00-05:00  106.54  106.5500  106.3300  106.400  3370918   \n",
       "2019-01-16 00:00:00-05:00  106.33  106.5200  105.7500  106.475  3531236   \n",
       "2019-01-17 00:00:00-05:00  106.53  106.5300  106.3350  106.430  5184640   \n",
       "2019-01-18 00:00:00-05:00  106.37  106.4799  106.2803  106.325  5666187   \n",
       "2019-01-22 00:00:00-05:00  106.44  108.5100  106.4400  106.455  6646771   \n",
       "\n",
       "                                           SPY                             \\\n",
       "                          daily_return    open      high      low   close   \n",
       "time                                                                        \n",
       "2019-01-15 00:00:00-05:00          NaN  257.82  260.7000  257.250  260.21   \n",
       "2019-01-16 00:00:00-05:00     0.000705  260.83  261.9666  260.600  260.94   \n",
       "2019-01-17 00:00:00-05:00    -0.000423  260.01  263.9200  259.960  262.88   \n",
       "2019-01-18 00:00:00-05:00    -0.000987  264.98  266.9800  262.998  266.16   \n",
       "2019-01-22 00:00:00-05:00     0.001223  264.82  265.0600  261.060  261.97   \n",
       "\n",
       "                                                  \n",
       "                             volume daily_return  \n",
       "time                                              \n",
       "2019-01-15 00:00:00-05:00  72130969          NaN  \n",
       "2019-01-16 00:00:00-05:00  59299089     0.002805  \n",
       "2019-01-17 00:00:00-05:00  79893207     0.007435  \n",
       "2019-01-18 00:00:00-05:00  99666883     0.012477  \n",
       "2019-01-22 00:00:00-05:00  88775864    -0.015742  "
      ]
     },
     "execution_count": 30,
     "metadata": {},
     "output_type": "execute_result"
    }
   ],
   "source": [
    "# Configure the Monte Carlo simulation to forecast 30 years cumulative returns\n",
    "# The weights should be split 40% to AGG and 60% to SPY.\n",
    "# Run 500 samples.\n",
    "MC_thirtyyear = MCSimulation(\n",
    "  portfolio_data = prices_df,\n",
    "  weights = [.40,.60],\n",
    "  num_simulation = 500,\n",
    "  num_trading_days = 252*30\n",
    ")\n",
    "\n",
    "\n",
    "# Review the simulation input data\n",
    "MC_thirtyyear.portfolio_data.head()\n"
   ]
  },
  {
   "cell_type": "code",
   "execution_count": 31,
   "metadata": {},
   "outputs": [
    {
     "name": "stdout",
     "output_type": "stream",
     "text": [
      "Running Monte Carlo simulation number 0.\n",
      "Running Monte Carlo simulation number 10.\n",
      "Running Monte Carlo simulation number 20.\n",
      "Running Monte Carlo simulation number 30.\n",
      "Running Monte Carlo simulation number 40.\n",
      "Running Monte Carlo simulation number 50.\n",
      "Running Monte Carlo simulation number 60.\n",
      "Running Monte Carlo simulation number 70.\n",
      "Running Monte Carlo simulation number 80.\n",
      "Running Monte Carlo simulation number 90.\n",
      "Running Monte Carlo simulation number 100.\n"
     ]
    },
    {
     "name": "stderr",
     "output_type": "stream",
     "text": [
      "/Users/charlesbrown/FinTech/Rice_BC_Projects/financial_planning/MCForecastTools.py:117: PerformanceWarning: DataFrame is highly fragmented.  This is usually the result of calling `frame.insert` many times, which has poor performance.  Consider joining all columns at once using pd.concat(axis=1) instead.  To get a de-fragmented frame, use `newframe = frame.copy()`\n",
      "  portfolio_cumulative_returns[n] = (1 + sim_df.fillna(0)).cumprod()\n"
     ]
    },
    {
     "name": "stdout",
     "output_type": "stream",
     "text": [
      "Running Monte Carlo simulation number 110.\n",
      "Running Monte Carlo simulation number 120.\n",
      "Running Monte Carlo simulation number 130.\n",
      "Running Monte Carlo simulation number 140.\n",
      "Running Monte Carlo simulation number 150.\n",
      "Running Monte Carlo simulation number 160.\n",
      "Running Monte Carlo simulation number 170.\n",
      "Running Monte Carlo simulation number 180.\n",
      "Running Monte Carlo simulation number 190.\n",
      "Running Monte Carlo simulation number 200.\n",
      "Running Monte Carlo simulation number 210.\n",
      "Running Monte Carlo simulation number 220.\n",
      "Running Monte Carlo simulation number 230.\n",
      "Running Monte Carlo simulation number 240.\n",
      "Running Monte Carlo simulation number 250.\n",
      "Running Monte Carlo simulation number 260.\n",
      "Running Monte Carlo simulation number 270.\n",
      "Running Monte Carlo simulation number 280.\n",
      "Running Monte Carlo simulation number 290.\n",
      "Running Monte Carlo simulation number 300.\n",
      "Running Monte Carlo simulation number 310.\n",
      "Running Monte Carlo simulation number 320.\n",
      "Running Monte Carlo simulation number 330.\n",
      "Running Monte Carlo simulation number 340.\n",
      "Running Monte Carlo simulation number 350.\n",
      "Running Monte Carlo simulation number 360.\n",
      "Running Monte Carlo simulation number 370.\n",
      "Running Monte Carlo simulation number 380.\n",
      "Running Monte Carlo simulation number 390.\n",
      "Running Monte Carlo simulation number 400.\n",
      "Running Monte Carlo simulation number 410.\n",
      "Running Monte Carlo simulation number 420.\n",
      "Running Monte Carlo simulation number 430.\n",
      "Running Monte Carlo simulation number 440.\n",
      "Running Monte Carlo simulation number 450.\n",
      "Running Monte Carlo simulation number 460.\n",
      "Running Monte Carlo simulation number 470.\n",
      "Running Monte Carlo simulation number 480.\n",
      "Running Monte Carlo simulation number 490.\n"
     ]
    },
    {
     "data": {
      "text/html": [
       "<div>\n",
       "<style scoped>\n",
       "    .dataframe tbody tr th:only-of-type {\n",
       "        vertical-align: middle;\n",
       "    }\n",
       "\n",
       "    .dataframe tbody tr th {\n",
       "        vertical-align: top;\n",
       "    }\n",
       "\n",
       "    .dataframe thead th {\n",
       "        text-align: right;\n",
       "    }\n",
       "</style>\n",
       "<table border=\"1\" class=\"dataframe\">\n",
       "  <thead>\n",
       "    <tr style=\"text-align: right;\">\n",
       "      <th></th>\n",
       "      <th>0</th>\n",
       "      <th>1</th>\n",
       "      <th>2</th>\n",
       "      <th>3</th>\n",
       "      <th>4</th>\n",
       "      <th>5</th>\n",
       "      <th>6</th>\n",
       "      <th>7</th>\n",
       "      <th>8</th>\n",
       "      <th>9</th>\n",
       "      <th>...</th>\n",
       "      <th>490</th>\n",
       "      <th>491</th>\n",
       "      <th>492</th>\n",
       "      <th>493</th>\n",
       "      <th>494</th>\n",
       "      <th>495</th>\n",
       "      <th>496</th>\n",
       "      <th>497</th>\n",
       "      <th>498</th>\n",
       "      <th>499</th>\n",
       "    </tr>\n",
       "  </thead>\n",
       "  <tbody>\n",
       "    <tr>\n",
       "      <th>0</th>\n",
       "      <td>1.000000</td>\n",
       "      <td>1.000000</td>\n",
       "      <td>1.000000</td>\n",
       "      <td>1.000000</td>\n",
       "      <td>1.000000</td>\n",
       "      <td>1.000000</td>\n",
       "      <td>1.000000</td>\n",
       "      <td>1.000000</td>\n",
       "      <td>1.000000</td>\n",
       "      <td>1.000000</td>\n",
       "      <td>...</td>\n",
       "      <td>1.000000</td>\n",
       "      <td>1.000000</td>\n",
       "      <td>1.000000</td>\n",
       "      <td>1.000000</td>\n",
       "      <td>1.000000</td>\n",
       "      <td>1.000000</td>\n",
       "      <td>1.000000</td>\n",
       "      <td>1.000000</td>\n",
       "      <td>1.000000</td>\n",
       "      <td>1.000000</td>\n",
       "    </tr>\n",
       "    <tr>\n",
       "      <th>1</th>\n",
       "      <td>1.000251</td>\n",
       "      <td>0.998153</td>\n",
       "      <td>0.990625</td>\n",
       "      <td>0.995303</td>\n",
       "      <td>0.990897</td>\n",
       "      <td>0.998867</td>\n",
       "      <td>1.004665</td>\n",
       "      <td>1.005699</td>\n",
       "      <td>0.999940</td>\n",
       "      <td>0.996542</td>\n",
       "      <td>...</td>\n",
       "      <td>1.000088</td>\n",
       "      <td>1.002247</td>\n",
       "      <td>1.017852</td>\n",
       "      <td>0.997933</td>\n",
       "      <td>0.993210</td>\n",
       "      <td>1.009102</td>\n",
       "      <td>1.013123</td>\n",
       "      <td>0.998537</td>\n",
       "      <td>0.998878</td>\n",
       "      <td>1.003206</td>\n",
       "    </tr>\n",
       "    <tr>\n",
       "      <th>2</th>\n",
       "      <td>0.992454</td>\n",
       "      <td>0.996403</td>\n",
       "      <td>0.985790</td>\n",
       "      <td>1.009405</td>\n",
       "      <td>0.988900</td>\n",
       "      <td>0.994012</td>\n",
       "      <td>1.007563</td>\n",
       "      <td>0.998043</td>\n",
       "      <td>0.992774</td>\n",
       "      <td>0.986581</td>\n",
       "      <td>...</td>\n",
       "      <td>1.007280</td>\n",
       "      <td>1.000397</td>\n",
       "      <td>1.014168</td>\n",
       "      <td>0.996275</td>\n",
       "      <td>0.991550</td>\n",
       "      <td>1.013978</td>\n",
       "      <td>1.025387</td>\n",
       "      <td>0.984587</td>\n",
       "      <td>0.996076</td>\n",
       "      <td>1.007226</td>\n",
       "    </tr>\n",
       "    <tr>\n",
       "      <th>3</th>\n",
       "      <td>0.986103</td>\n",
       "      <td>0.986845</td>\n",
       "      <td>0.989801</td>\n",
       "      <td>1.028676</td>\n",
       "      <td>0.986912</td>\n",
       "      <td>0.980759</td>\n",
       "      <td>1.019890</td>\n",
       "      <td>0.979941</td>\n",
       "      <td>0.996658</td>\n",
       "      <td>0.977484</td>\n",
       "      <td>...</td>\n",
       "      <td>0.998369</td>\n",
       "      <td>0.995736</td>\n",
       "      <td>1.004204</td>\n",
       "      <td>0.994022</td>\n",
       "      <td>1.005944</td>\n",
       "      <td>1.006276</td>\n",
       "      <td>1.011297</td>\n",
       "      <td>0.992875</td>\n",
       "      <td>1.001724</td>\n",
       "      <td>1.008522</td>\n",
       "    </tr>\n",
       "    <tr>\n",
       "      <th>4</th>\n",
       "      <td>0.984105</td>\n",
       "      <td>1.003696</td>\n",
       "      <td>0.980770</td>\n",
       "      <td>1.034372</td>\n",
       "      <td>0.986625</td>\n",
       "      <td>0.978033</td>\n",
       "      <td>1.022260</td>\n",
       "      <td>0.988836</td>\n",
       "      <td>0.985617</td>\n",
       "      <td>0.981097</td>\n",
       "      <td>...</td>\n",
       "      <td>0.977920</td>\n",
       "      <td>0.991035</td>\n",
       "      <td>1.001100</td>\n",
       "      <td>1.013175</td>\n",
       "      <td>1.007542</td>\n",
       "      <td>1.002646</td>\n",
       "      <td>1.017256</td>\n",
       "      <td>0.987990</td>\n",
       "      <td>1.005084</td>\n",
       "      <td>0.997381</td>\n",
       "    </tr>\n",
       "    <tr>\n",
       "      <th>...</th>\n",
       "      <td>...</td>\n",
       "      <td>...</td>\n",
       "      <td>...</td>\n",
       "      <td>...</td>\n",
       "      <td>...</td>\n",
       "      <td>...</td>\n",
       "      <td>...</td>\n",
       "      <td>...</td>\n",
       "      <td>...</td>\n",
       "      <td>...</td>\n",
       "      <td>...</td>\n",
       "      <td>...</td>\n",
       "      <td>...</td>\n",
       "      <td>...</td>\n",
       "      <td>...</td>\n",
       "      <td>...</td>\n",
       "      <td>...</td>\n",
       "      <td>...</td>\n",
       "      <td>...</td>\n",
       "      <td>...</td>\n",
       "      <td>...</td>\n",
       "    </tr>\n",
       "    <tr>\n",
       "      <th>7556</th>\n",
       "      <td>47.187899</td>\n",
       "      <td>55.724320</td>\n",
       "      <td>106.512566</td>\n",
       "      <td>15.665555</td>\n",
       "      <td>41.516948</td>\n",
       "      <td>53.934084</td>\n",
       "      <td>33.143250</td>\n",
       "      <td>64.044176</td>\n",
       "      <td>16.494568</td>\n",
       "      <td>62.395940</td>\n",
       "      <td>...</td>\n",
       "      <td>35.880842</td>\n",
       "      <td>24.014479</td>\n",
       "      <td>62.008395</td>\n",
       "      <td>43.182502</td>\n",
       "      <td>136.327451</td>\n",
       "      <td>24.326046</td>\n",
       "      <td>42.192974</td>\n",
       "      <td>82.352435</td>\n",
       "      <td>28.160336</td>\n",
       "      <td>140.995835</td>\n",
       "    </tr>\n",
       "    <tr>\n",
       "      <th>7557</th>\n",
       "      <td>47.866245</td>\n",
       "      <td>55.598368</td>\n",
       "      <td>107.669426</td>\n",
       "      <td>15.729416</td>\n",
       "      <td>41.487281</td>\n",
       "      <td>54.268085</td>\n",
       "      <td>32.856578</td>\n",
       "      <td>64.407044</td>\n",
       "      <td>16.387007</td>\n",
       "      <td>62.704903</td>\n",
       "      <td>...</td>\n",
       "      <td>36.073365</td>\n",
       "      <td>24.043334</td>\n",
       "      <td>61.409493</td>\n",
       "      <td>42.930046</td>\n",
       "      <td>136.695492</td>\n",
       "      <td>24.684653</td>\n",
       "      <td>42.013758</td>\n",
       "      <td>82.352362</td>\n",
       "      <td>28.451377</td>\n",
       "      <td>140.707752</td>\n",
       "    </tr>\n",
       "    <tr>\n",
       "      <th>7558</th>\n",
       "      <td>48.116623</td>\n",
       "      <td>56.246860</td>\n",
       "      <td>107.679846</td>\n",
       "      <td>15.691309</td>\n",
       "      <td>41.829110</td>\n",
       "      <td>53.916322</td>\n",
       "      <td>32.919827</td>\n",
       "      <td>65.699378</td>\n",
       "      <td>16.307897</td>\n",
       "      <td>62.768892</td>\n",
       "      <td>...</td>\n",
       "      <td>35.762028</td>\n",
       "      <td>23.693453</td>\n",
       "      <td>62.051501</td>\n",
       "      <td>43.440194</td>\n",
       "      <td>135.452246</td>\n",
       "      <td>24.432953</td>\n",
       "      <td>41.806709</td>\n",
       "      <td>81.120719</td>\n",
       "      <td>28.701885</td>\n",
       "      <td>139.621310</td>\n",
       "    </tr>\n",
       "    <tr>\n",
       "      <th>7559</th>\n",
       "      <td>48.297388</td>\n",
       "      <td>56.102675</td>\n",
       "      <td>109.394181</td>\n",
       "      <td>15.944708</td>\n",
       "      <td>41.942293</td>\n",
       "      <td>54.689549</td>\n",
       "      <td>32.548355</td>\n",
       "      <td>65.881187</td>\n",
       "      <td>16.187434</td>\n",
       "      <td>63.227478</td>\n",
       "      <td>...</td>\n",
       "      <td>35.989633</td>\n",
       "      <td>23.868995</td>\n",
       "      <td>62.733233</td>\n",
       "      <td>43.620157</td>\n",
       "      <td>134.002198</td>\n",
       "      <td>24.523494</td>\n",
       "      <td>42.275379</td>\n",
       "      <td>82.073619</td>\n",
       "      <td>29.179743</td>\n",
       "      <td>140.404173</td>\n",
       "    </tr>\n",
       "    <tr>\n",
       "      <th>7560</th>\n",
       "      <td>47.875321</td>\n",
       "      <td>57.228213</td>\n",
       "      <td>109.941836</td>\n",
       "      <td>15.851858</td>\n",
       "      <td>42.364128</td>\n",
       "      <td>54.619208</td>\n",
       "      <td>32.376127</td>\n",
       "      <td>65.944449</td>\n",
       "      <td>16.159280</td>\n",
       "      <td>63.499512</td>\n",
       "      <td>...</td>\n",
       "      <td>36.326248</td>\n",
       "      <td>23.720887</td>\n",
       "      <td>63.282954</td>\n",
       "      <td>43.830488</td>\n",
       "      <td>134.300998</td>\n",
       "      <td>24.413964</td>\n",
       "      <td>42.174009</td>\n",
       "      <td>81.037399</td>\n",
       "      <td>29.348928</td>\n",
       "      <td>141.968443</td>\n",
       "    </tr>\n",
       "  </tbody>\n",
       "</table>\n",
       "<p>7561 rows × 500 columns</p>\n",
       "</div>"
      ],
      "text/plain": [
       "            0          1           2          3          4          5    \\\n",
       "0      1.000000   1.000000    1.000000   1.000000   1.000000   1.000000   \n",
       "1      1.000251   0.998153    0.990625   0.995303   0.990897   0.998867   \n",
       "2      0.992454   0.996403    0.985790   1.009405   0.988900   0.994012   \n",
       "3      0.986103   0.986845    0.989801   1.028676   0.986912   0.980759   \n",
       "4      0.984105   1.003696    0.980770   1.034372   0.986625   0.978033   \n",
       "...         ...        ...         ...        ...        ...        ...   \n",
       "7556  47.187899  55.724320  106.512566  15.665555  41.516948  53.934084   \n",
       "7557  47.866245  55.598368  107.669426  15.729416  41.487281  54.268085   \n",
       "7558  48.116623  56.246860  107.679846  15.691309  41.829110  53.916322   \n",
       "7559  48.297388  56.102675  109.394181  15.944708  41.942293  54.689549   \n",
       "7560  47.875321  57.228213  109.941836  15.851858  42.364128  54.619208   \n",
       "\n",
       "            6          7          8          9    ...        490        491  \\\n",
       "0      1.000000   1.000000   1.000000   1.000000  ...   1.000000   1.000000   \n",
       "1      1.004665   1.005699   0.999940   0.996542  ...   1.000088   1.002247   \n",
       "2      1.007563   0.998043   0.992774   0.986581  ...   1.007280   1.000397   \n",
       "3      1.019890   0.979941   0.996658   0.977484  ...   0.998369   0.995736   \n",
       "4      1.022260   0.988836   0.985617   0.981097  ...   0.977920   0.991035   \n",
       "...         ...        ...        ...        ...  ...        ...        ...   \n",
       "7556  33.143250  64.044176  16.494568  62.395940  ...  35.880842  24.014479   \n",
       "7557  32.856578  64.407044  16.387007  62.704903  ...  36.073365  24.043334   \n",
       "7558  32.919827  65.699378  16.307897  62.768892  ...  35.762028  23.693453   \n",
       "7559  32.548355  65.881187  16.187434  63.227478  ...  35.989633  23.868995   \n",
       "7560  32.376127  65.944449  16.159280  63.499512  ...  36.326248  23.720887   \n",
       "\n",
       "            492        493         494        495        496        497  \\\n",
       "0      1.000000   1.000000    1.000000   1.000000   1.000000   1.000000   \n",
       "1      1.017852   0.997933    0.993210   1.009102   1.013123   0.998537   \n",
       "2      1.014168   0.996275    0.991550   1.013978   1.025387   0.984587   \n",
       "3      1.004204   0.994022    1.005944   1.006276   1.011297   0.992875   \n",
       "4      1.001100   1.013175    1.007542   1.002646   1.017256   0.987990   \n",
       "...         ...        ...         ...        ...        ...        ...   \n",
       "7556  62.008395  43.182502  136.327451  24.326046  42.192974  82.352435   \n",
       "7557  61.409493  42.930046  136.695492  24.684653  42.013758  82.352362   \n",
       "7558  62.051501  43.440194  135.452246  24.432953  41.806709  81.120719   \n",
       "7559  62.733233  43.620157  134.002198  24.523494  42.275379  82.073619   \n",
       "7560  63.282954  43.830488  134.300998  24.413964  42.174009  81.037399   \n",
       "\n",
       "            498         499  \n",
       "0      1.000000    1.000000  \n",
       "1      0.998878    1.003206  \n",
       "2      0.996076    1.007226  \n",
       "3      1.001724    1.008522  \n",
       "4      1.005084    0.997381  \n",
       "...         ...         ...  \n",
       "7556  28.160336  140.995835  \n",
       "7557  28.451377  140.707752  \n",
       "7558  28.701885  139.621310  \n",
       "7559  29.179743  140.404173  \n",
       "7560  29.348928  141.968443  \n",
       "\n",
       "[7561 rows x 500 columns]"
      ]
     },
     "execution_count": 31,
     "metadata": {},
     "output_type": "execute_result"
    }
   ],
   "source": [
    "# Run the Monte Carlo simulation to forecast 30 years cumulative returns\n",
    "MC_thirtyyear.calc_cumulative_return()\n"
   ]
  },
  {
   "cell_type": "code",
   "execution_count": 32,
   "metadata": {},
   "outputs": [
    {
     "data": {
      "image/png": "[encoded data removed]",
      "text/plain": [
       "<Figure size 432x288 with 1 Axes>"
      ]
     },
     "metadata": {
      "needs_background": "light"
     },
     "output_type": "display_data"
    }
   ],
   "source": [
    "# Visualize the 30-year Monte Carlo simulation by creating an\n",
    "# overlay line plot\n",
    "MC_sim_line_plot = MC_thirtyyear.plot_simulation()\n"
   ]
  },
  {
   "cell_type": "markdown",
   "metadata": {},
   "source": [
    "#### Step 3: Plot the probability distribution of the Monte Carlo simulation."
   ]
  },
  {
   "cell_type": "code",
   "execution_count": 33,
   "metadata": {},
   "outputs": [
    {
     "data": {
      "image/png": "[encoded data removed]",
      "text/plain": [
       "<Figure size 432x288 with 1 Axes>"
      ]
     },
     "metadata": {
      "needs_background": "light"
     },
     "output_type": "display_data"
    }
   ],
   "source": [
    "# Visualize the probability distribution of the 30-year Monte Carlo simulation \n",
    "# by plotting a histogram\n",
    "MC_dist_plot = MC_thirtyyear.plot_distribution()\n"
   ]
  },
  {
   "cell_type": "markdown",
   "metadata": {},
   "source": [
    "#### Step 4: Generate the summary statistics for the Monte Carlo simulation."
   ]
  },
  {
   "cell_type": "code",
   "execution_count": 34,
   "metadata": {},
   "outputs": [
    {
     "data": {
      "text/plain": [
       "count           500.000000\n",
       "mean             63.472035\n",
       "std              52.679895\n",
       "min               6.307008\n",
       "25%              30.400529\n",
       "50%              47.345571\n",
       "75%              80.423136\n",
       "max             397.556415\n",
       "95% CI Lower     11.708718\n",
       "95% CI Upper    220.830678\n",
       "Name: 7560, dtype: float64"
      ]
     },
     "execution_count": 34,
     "metadata": {},
     "output_type": "execute_result"
    }
   ],
   "source": [
    "# Generate summary statistics from the 30-year Monte Carlo simulation results\n",
    "# Save the results as a variable\n",
    "MC_thirtyyear_summary = MC_thirtyyear.summarize_cumulative_return()\n",
    "\n",
    "\n",
    "# Review the 30-year Monte Carlo summary statistics\n",
    "MC_thirtyyear_summary"
   ]
  },
  {
   "cell_type": "markdown",
   "metadata": {},
   "source": [
    "### Analyze the Retirement Portfolio Forecasts\n",
    "\n",
    "Using the current value of only the stock and bond portion of the member's portfolio and the summary statistics that you generated from the Monte Carlo simulation, answer the following question in your Jupyter notebook:\n",
    "\n",
    "-  What are the lower and upper bounds for the expected value of the portfolio with a 95% confidence interval?\n"
   ]
  },
  {
   "cell_type": "code",
   "execution_count": 46,
   "metadata": {},
   "outputs": [
    {
     "name": "stdout",
     "output_type": "stream",
     "text": [
      "The current balance in the stock and bond portion of the member's portfolio is $73,548.80.\n"
     ]
    }
   ],
   "source": [
    "# Print the current balance of the stock and bond portion of the members portfolio\n",
    "\n",
    "\n",
    "print(f\"The current balance in the stock and bond portion of the member's portfolio is ${total_stocks_bonds:,.2f}.\")\n"
   ]
  },
  {
   "cell_type": "code",
   "execution_count": 49,
   "metadata": {},
   "outputs": [
    {
     "name": "stdout",
     "output_type": "stream",
     "text": [
      "There is a 95% chance that an initial investment of $73,548.80 will generate a portfolio value of between $861,162.18 and $16,241,831.39 in 30 years.\n"
     ]
    }
   ],
   "source": [
    "# Use the lower and upper `95%` confidence intervals to calculate the range of the possible outcomes for the current stock/bond portfolio\n",
    "ci_lower_thirty_cumulative_return = MC_thirtyyear_summary[8]*total_stocks_bonds\n",
    "ci_upper_thirty_cumulative_return = MC_thirtyyear_summary[9]*total_stocks_bonds\n",
    "\n",
    "# Print the result of your calculations\n",
    "\n",
    "print(f\"There is a 95% chance that an initial investment of ${total_stocks_bonds:,.2f} will generate a portfolio value of between ${ci_lower_thirty_cumulative_return:,.2f} and ${ci_upper_thirty_cumulative_return:,.2f} in 30 years.\")\n"
   ]
  },
  {
   "cell_type": "markdown",
   "metadata": {},
   "source": [
    "### Forecast Cumulative Returns in 10 Years\n",
    "\n",
    "The CTO of the credit union is impressed with your work on these planning tools but wonders if 30 years is a long time to wait until retirement. So, your next task is to adjust the retirement portfolio and run a new Monte Carlo simulation to find out if the changes will allow members to retire earlier.\n",
    "\n",
    "For this new Monte Carlo simulation, do the following: \n",
    "\n",
    "- Forecast the cumulative returns for 10 years from now. Because of the shortened investment horizon (30 years to 10 years), the portfolio needs to invest more heavily in the riskier asset&mdash;that is, stock&mdash;to help accumulate wealth for retirement. \n",
    "\n",
    "- Adjust the weights of the retirement portfolio so that the composition for the Monte Carlo simulation consists of 20% bonds and 80% stocks. \n",
    "\n",
    "- Run the simulation over 500 samples, and use the same data that the API call to Alpaca generated.\n",
    "\n",
    "- Based on the new Monte Carlo simulation, answer the following questions in your Jupyter notebook:\n",
    "\n",
    "    - Using the current value of only the stock and bond portion of the member's portfolio and the summary statistics that you generated from the new Monte Carlo simulation, what are the lower and upper bounds for the expected value of the portfolio (with the new weights) with a 95% confidence interval?\n",
    "\n",
    "    - Will weighting the portfolio more heavily toward stocks allow the credit union members to retire after only 10 years?\n"
   ]
  },
  {
   "cell_type": "code",
   "execution_count": 37,
   "metadata": {},
   "outputs": [
    {
     "data": {
      "text/html": [
       "<div>\n",
       "<style scoped>\n",
       "    .dataframe tbody tr th:only-of-type {\n",
       "        vertical-align: middle;\n",
       "    }\n",
       "\n",
       "    .dataframe tbody tr th {\n",
       "        vertical-align: top;\n",
       "    }\n",
       "\n",
       "    .dataframe thead tr th {\n",
       "        text-align: left;\n",
       "    }\n",
       "\n",
       "    .dataframe thead tr:last-of-type th {\n",
       "        text-align: right;\n",
       "    }\n",
       "</style>\n",
       "<table border=\"1\" class=\"dataframe\">\n",
       "  <thead>\n",
       "    <tr>\n",
       "      <th></th>\n",
       "      <th colspan=\"6\" halign=\"left\">AGG</th>\n",
       "      <th colspan=\"6\" halign=\"left\">SPY</th>\n",
       "    </tr>\n",
       "    <tr>\n",
       "      <th></th>\n",
       "      <th>open</th>\n",
       "      <th>high</th>\n",
       "      <th>low</th>\n",
       "      <th>close</th>\n",
       "      <th>volume</th>\n",
       "      <th>daily_return</th>\n",
       "      <th>open</th>\n",
       "      <th>high</th>\n",
       "      <th>low</th>\n",
       "      <th>close</th>\n",
       "      <th>volume</th>\n",
       "      <th>daily_return</th>\n",
       "    </tr>\n",
       "    <tr>\n",
       "      <th>time</th>\n",
       "      <th></th>\n",
       "      <th></th>\n",
       "      <th></th>\n",
       "      <th></th>\n",
       "      <th></th>\n",
       "      <th></th>\n",
       "      <th></th>\n",
       "      <th></th>\n",
       "      <th></th>\n",
       "      <th></th>\n",
       "      <th></th>\n",
       "      <th></th>\n",
       "    </tr>\n",
       "  </thead>\n",
       "  <tbody>\n",
       "    <tr>\n",
       "      <th>2019-01-15 00:00:00-05:00</th>\n",
       "      <td>106.54</td>\n",
       "      <td>106.5500</td>\n",
       "      <td>106.3300</td>\n",
       "      <td>106.400</td>\n",
       "      <td>3370918</td>\n",
       "      <td>NaN</td>\n",
       "      <td>257.82</td>\n",
       "      <td>260.7000</td>\n",
       "      <td>257.250</td>\n",
       "      <td>260.21</td>\n",
       "      <td>72130969</td>\n",
       "      <td>NaN</td>\n",
       "    </tr>\n",
       "    <tr>\n",
       "      <th>2019-01-16 00:00:00-05:00</th>\n",
       "      <td>106.33</td>\n",
       "      <td>106.5200</td>\n",
       "      <td>105.7500</td>\n",
       "      <td>106.475</td>\n",
       "      <td>3531236</td>\n",
       "      <td>0.000705</td>\n",
       "      <td>260.83</td>\n",
       "      <td>261.9666</td>\n",
       "      <td>260.600</td>\n",
       "      <td>260.94</td>\n",
       "      <td>59299089</td>\n",
       "      <td>0.002805</td>\n",
       "    </tr>\n",
       "    <tr>\n",
       "      <th>2019-01-17 00:00:00-05:00</th>\n",
       "      <td>106.53</td>\n",
       "      <td>106.5300</td>\n",
       "      <td>106.3350</td>\n",
       "      <td>106.430</td>\n",
       "      <td>5184640</td>\n",
       "      <td>-0.000423</td>\n",
       "      <td>260.01</td>\n",
       "      <td>263.9200</td>\n",
       "      <td>259.960</td>\n",
       "      <td>262.88</td>\n",
       "      <td>79893207</td>\n",
       "      <td>0.007435</td>\n",
       "    </tr>\n",
       "    <tr>\n",
       "      <th>2019-01-18 00:00:00-05:00</th>\n",
       "      <td>106.37</td>\n",
       "      <td>106.4799</td>\n",
       "      <td>106.2803</td>\n",
       "      <td>106.325</td>\n",
       "      <td>5666187</td>\n",
       "      <td>-0.000987</td>\n",
       "      <td>264.98</td>\n",
       "      <td>266.9800</td>\n",
       "      <td>262.998</td>\n",
       "      <td>266.16</td>\n",
       "      <td>99666883</td>\n",
       "      <td>0.012477</td>\n",
       "    </tr>\n",
       "    <tr>\n",
       "      <th>2019-01-22 00:00:00-05:00</th>\n",
       "      <td>106.44</td>\n",
       "      <td>108.5100</td>\n",
       "      <td>106.4400</td>\n",
       "      <td>106.455</td>\n",
       "      <td>6646771</td>\n",
       "      <td>0.001223</td>\n",
       "      <td>264.82</td>\n",
       "      <td>265.0600</td>\n",
       "      <td>261.060</td>\n",
       "      <td>261.97</td>\n",
       "      <td>88775864</td>\n",
       "      <td>-0.015742</td>\n",
       "    </tr>\n",
       "  </tbody>\n",
       "</table>\n",
       "</div>"
      ],
      "text/plain": [
       "                              AGG                                        \\\n",
       "                             open      high       low    close   volume   \n",
       "time                                                                      \n",
       "2019-01-15 00:00:00-05:00  106.54  106.5500  106.3300  106.400  3370918   \n",
       "2019-01-16 00:00:00-05:00  106.33  106.5200  105.7500  106.475  3531236   \n",
       "2019-01-17 00:00:00-05:00  106.53  106.5300  106.3350  106.430  5184640   \n",
       "2019-01-18 00:00:00-05:00  106.37  106.4799  106.2803  106.325  5666187   \n",
       "2019-01-22 00:00:00-05:00  106.44  108.5100  106.4400  106.455  6646771   \n",
       "\n",
       "                                           SPY                             \\\n",
       "                          daily_return    open      high      low   close   \n",
       "time                                                                        \n",
       "2019-01-15 00:00:00-05:00          NaN  257.82  260.7000  257.250  260.21   \n",
       "2019-01-16 00:00:00-05:00     0.000705  260.83  261.9666  260.600  260.94   \n",
       "2019-01-17 00:00:00-05:00    -0.000423  260.01  263.9200  259.960  262.88   \n",
       "2019-01-18 00:00:00-05:00    -0.000987  264.98  266.9800  262.998  266.16   \n",
       "2019-01-22 00:00:00-05:00     0.001223  264.82  265.0600  261.060  261.97   \n",
       "\n",
       "                                                  \n",
       "                             volume daily_return  \n",
       "time                                              \n",
       "2019-01-15 00:00:00-05:00  72130969          NaN  \n",
       "2019-01-16 00:00:00-05:00  59299089     0.002805  \n",
       "2019-01-17 00:00:00-05:00  79893207     0.007435  \n",
       "2019-01-18 00:00:00-05:00  99666883     0.012477  \n",
       "2019-01-22 00:00:00-05:00  88775864    -0.015742  "
      ]
     },
     "execution_count": 37,
     "metadata": {},
     "output_type": "execute_result"
    }
   ],
   "source": [
    "# Configure a Monte Carlo simulation to forecast 10 years cumulative returns\n",
    "# The weights should be split 20% to AGG and 80% to SPY.\n",
    "# Run 500 samples.\n",
    "MC_tenyear = MCSimulation(\n",
    "  portfolio_data = prices_df,\n",
    "  weights = [.20,.80],\n",
    "  num_simulation = 500,\n",
    "  num_trading_days = 252*10\n",
    ")\n",
    "\n",
    "\n",
    "# Review the simulation input data\n",
    "MC_tenyear.portfolio_data.head()\n"
   ]
  },
  {
   "cell_type": "code",
   "execution_count": 38,
   "metadata": {},
   "outputs": [
    {
     "name": "stdout",
     "output_type": "stream",
     "text": [
      "Running Monte Carlo simulation number 0.\n",
      "Running Monte Carlo simulation number 10.\n",
      "Running Monte Carlo simulation number 20.\n",
      "Running Monte Carlo simulation number 30.\n",
      "Running Monte Carlo simulation number 40.\n",
      "Running Monte Carlo simulation number 50.\n",
      "Running Monte Carlo simulation number 60.\n",
      "Running Monte Carlo simulation number 70.\n",
      "Running Monte Carlo simulation number 80.\n",
      "Running Monte Carlo simulation number 90.\n",
      "Running Monte Carlo simulation number 100.\n"
     ]
    },
    {
     "name": "stderr",
     "output_type": "stream",
     "text": [
      "/Users/charlesbrown/FinTech/Rice_BC_Projects/financial_planning/MCForecastTools.py:117: PerformanceWarning: DataFrame is highly fragmented.  This is usually the result of calling `frame.insert` many times, which has poor performance.  Consider joining all columns at once using pd.concat(axis=1) instead.  To get a de-fragmented frame, use `newframe = frame.copy()`\n",
      "  portfolio_cumulative_returns[n] = (1 + sim_df.fillna(0)).cumprod()\n"
     ]
    },
    {
     "name": "stdout",
     "output_type": "stream",
     "text": [
      "Running Monte Carlo simulation number 110.\n",
      "Running Monte Carlo simulation number 120.\n",
      "Running Monte Carlo simulation number 130.\n",
      "Running Monte Carlo simulation number 140.\n",
      "Running Monte Carlo simulation number 150.\n",
      "Running Monte Carlo simulation number 160.\n",
      "Running Monte Carlo simulation number 170.\n",
      "Running Monte Carlo simulation number 180.\n",
      "Running Monte Carlo simulation number 190.\n",
      "Running Monte Carlo simulation number 200.\n",
      "Running Monte Carlo simulation number 210.\n",
      "Running Monte Carlo simulation number 220.\n",
      "Running Monte Carlo simulation number 230.\n",
      "Running Monte Carlo simulation number 240.\n",
      "Running Monte Carlo simulation number 250.\n",
      "Running Monte Carlo simulation number 260.\n",
      "Running Monte Carlo simulation number 270.\n",
      "Running Monte Carlo simulation number 280.\n",
      "Running Monte Carlo simulation number 290.\n",
      "Running Monte Carlo simulation number 300.\n",
      "Running Monte Carlo simulation number 310.\n",
      "Running Monte Carlo simulation number 320.\n",
      "Running Monte Carlo simulation number 330.\n",
      "Running Monte Carlo simulation number 340.\n",
      "Running Monte Carlo simulation number 350.\n",
      "Running Monte Carlo simulation number 360.\n",
      "Running Monte Carlo simulation number 370.\n",
      "Running Monte Carlo simulation number 380.\n",
      "Running Monte Carlo simulation number 390.\n",
      "Running Monte Carlo simulation number 400.\n",
      "Running Monte Carlo simulation number 410.\n",
      "Running Monte Carlo simulation number 420.\n",
      "Running Monte Carlo simulation number 430.\n",
      "Running Monte Carlo simulation number 440.\n",
      "Running Monte Carlo simulation number 450.\n",
      "Running Monte Carlo simulation number 460.\n",
      "Running Monte Carlo simulation number 470.\n",
      "Running Monte Carlo simulation number 480.\n",
      "Running Monte Carlo simulation number 490.\n"
     ]
    },
    {
     "data": {
      "text/html": [
       "<div>\n",
       "<style scoped>\n",
       "    .dataframe tbody tr th:only-of-type {\n",
       "        vertical-align: middle;\n",
       "    }\n",
       "\n",
       "    .dataframe tbody tr th {\n",
       "        vertical-align: top;\n",
       "    }\n",
       "\n",
       "    .dataframe thead th {\n",
       "        text-align: right;\n",
       "    }\n",
       "</style>\n",
       "<table border=\"1\" class=\"dataframe\">\n",
       "  <thead>\n",
       "    <tr style=\"text-align: right;\">\n",
       "      <th></th>\n",
       "      <th>0</th>\n",
       "      <th>1</th>\n",
       "      <th>2</th>\n",
       "      <th>3</th>\n",
       "      <th>4</th>\n",
       "      <th>5</th>\n",
       "      <th>6</th>\n",
       "      <th>7</th>\n",
       "      <th>8</th>\n",
       "      <th>9</th>\n",
       "      <th>...</th>\n",
       "      <th>490</th>\n",
       "      <th>491</th>\n",
       "      <th>492</th>\n",
       "      <th>493</th>\n",
       "      <th>494</th>\n",
       "      <th>495</th>\n",
       "      <th>496</th>\n",
       "      <th>497</th>\n",
       "      <th>498</th>\n",
       "      <th>499</th>\n",
       "    </tr>\n",
       "  </thead>\n",
       "  <tbody>\n",
       "    <tr>\n",
       "      <th>0</th>\n",
       "      <td>1.000000</td>\n",
       "      <td>1.000000</td>\n",
       "      <td>1.000000</td>\n",
       "      <td>1.000000</td>\n",
       "      <td>1.000000</td>\n",
       "      <td>1.000000</td>\n",
       "      <td>1.000000</td>\n",
       "      <td>1.000000</td>\n",
       "      <td>1.000000</td>\n",
       "      <td>1.000000</td>\n",
       "      <td>...</td>\n",
       "      <td>1.000000</td>\n",
       "      <td>1.000000</td>\n",
       "      <td>1.000000</td>\n",
       "      <td>1.000000</td>\n",
       "      <td>1.000000</td>\n",
       "      <td>1.000000</td>\n",
       "      <td>1.000000</td>\n",
       "      <td>1.000000</td>\n",
       "      <td>1.000000</td>\n",
       "      <td>1.000000</td>\n",
       "    </tr>\n",
       "    <tr>\n",
       "      <th>1</th>\n",
       "      <td>1.010114</td>\n",
       "      <td>1.009712</td>\n",
       "      <td>0.987202</td>\n",
       "      <td>0.989111</td>\n",
       "      <td>0.994769</td>\n",
       "      <td>1.013689</td>\n",
       "      <td>0.994781</td>\n",
       "      <td>1.011784</td>\n",
       "      <td>0.999400</td>\n",
       "      <td>0.987786</td>\n",
       "      <td>...</td>\n",
       "      <td>1.020016</td>\n",
       "      <td>0.989649</td>\n",
       "      <td>0.989828</td>\n",
       "      <td>1.003671</td>\n",
       "      <td>1.005100</td>\n",
       "      <td>1.001305</td>\n",
       "      <td>1.003989</td>\n",
       "      <td>1.010148</td>\n",
       "      <td>0.985372</td>\n",
       "      <td>1.004247</td>\n",
       "    </tr>\n",
       "    <tr>\n",
       "      <th>2</th>\n",
       "      <td>1.009189</td>\n",
       "      <td>1.003595</td>\n",
       "      <td>0.975673</td>\n",
       "      <td>0.986239</td>\n",
       "      <td>1.006411</td>\n",
       "      <td>1.024228</td>\n",
       "      <td>1.004458</td>\n",
       "      <td>1.012941</td>\n",
       "      <td>0.989124</td>\n",
       "      <td>0.976129</td>\n",
       "      <td>...</td>\n",
       "      <td>1.003578</td>\n",
       "      <td>0.975620</td>\n",
       "      <td>0.980423</td>\n",
       "      <td>0.995029</td>\n",
       "      <td>1.000983</td>\n",
       "      <td>1.000480</td>\n",
       "      <td>1.017057</td>\n",
       "      <td>1.004073</td>\n",
       "      <td>0.982269</td>\n",
       "      <td>1.013851</td>\n",
       "    </tr>\n",
       "    <tr>\n",
       "      <th>3</th>\n",
       "      <td>1.000045</td>\n",
       "      <td>1.010673</td>\n",
       "      <td>0.968185</td>\n",
       "      <td>0.982296</td>\n",
       "      <td>1.010910</td>\n",
       "      <td>1.033055</td>\n",
       "      <td>0.968399</td>\n",
       "      <td>1.016333</td>\n",
       "      <td>0.988374</td>\n",
       "      <td>0.978181</td>\n",
       "      <td>...</td>\n",
       "      <td>0.989376</td>\n",
       "      <td>0.978544</td>\n",
       "      <td>0.974166</td>\n",
       "      <td>0.986540</td>\n",
       "      <td>0.988868</td>\n",
       "      <td>1.007698</td>\n",
       "      <td>0.999462</td>\n",
       "      <td>0.993776</td>\n",
       "      <td>0.986380</td>\n",
       "      <td>1.012087</td>\n",
       "    </tr>\n",
       "    <tr>\n",
       "      <th>4</th>\n",
       "      <td>1.002036</td>\n",
       "      <td>0.986088</td>\n",
       "      <td>0.986867</td>\n",
       "      <td>0.990374</td>\n",
       "      <td>0.991575</td>\n",
       "      <td>1.027578</td>\n",
       "      <td>0.960038</td>\n",
       "      <td>1.021674</td>\n",
       "      <td>0.987274</td>\n",
       "      <td>0.974846</td>\n",
       "      <td>...</td>\n",
       "      <td>0.981276</td>\n",
       "      <td>0.981065</td>\n",
       "      <td>0.968445</td>\n",
       "      <td>0.977161</td>\n",
       "      <td>0.991207</td>\n",
       "      <td>1.006069</td>\n",
       "      <td>0.999690</td>\n",
       "      <td>0.995671</td>\n",
       "      <td>0.991850</td>\n",
       "      <td>1.008841</td>\n",
       "    </tr>\n",
       "    <tr>\n",
       "      <th>...</th>\n",
       "      <td>...</td>\n",
       "      <td>...</td>\n",
       "      <td>...</td>\n",
       "      <td>...</td>\n",
       "      <td>...</td>\n",
       "      <td>...</td>\n",
       "      <td>...</td>\n",
       "      <td>...</td>\n",
       "      <td>...</td>\n",
       "      <td>...</td>\n",
       "      <td>...</td>\n",
       "      <td>...</td>\n",
       "      <td>...</td>\n",
       "      <td>...</td>\n",
       "      <td>...</td>\n",
       "      <td>...</td>\n",
       "      <td>...</td>\n",
       "      <td>...</td>\n",
       "      <td>...</td>\n",
       "      <td>...</td>\n",
       "      <td>...</td>\n",
       "    </tr>\n",
       "    <tr>\n",
       "      <th>2516</th>\n",
       "      <td>10.942468</td>\n",
       "      <td>2.999868</td>\n",
       "      <td>5.350585</td>\n",
       "      <td>10.430651</td>\n",
       "      <td>2.983294</td>\n",
       "      <td>4.218412</td>\n",
       "      <td>1.470333</td>\n",
       "      <td>7.371409</td>\n",
       "      <td>2.330655</td>\n",
       "      <td>1.990747</td>\n",
       "      <td>...</td>\n",
       "      <td>5.876249</td>\n",
       "      <td>6.265644</td>\n",
       "      <td>8.988642</td>\n",
       "      <td>3.745974</td>\n",
       "      <td>2.961924</td>\n",
       "      <td>7.448532</td>\n",
       "      <td>10.706892</td>\n",
       "      <td>2.424200</td>\n",
       "      <td>3.837693</td>\n",
       "      <td>4.122236</td>\n",
       "    </tr>\n",
       "    <tr>\n",
       "      <th>2517</th>\n",
       "      <td>11.266802</td>\n",
       "      <td>3.033462</td>\n",
       "      <td>5.339347</td>\n",
       "      <td>10.415543</td>\n",
       "      <td>2.953773</td>\n",
       "      <td>4.285799</td>\n",
       "      <td>1.490742</td>\n",
       "      <td>7.382114</td>\n",
       "      <td>2.327248</td>\n",
       "      <td>1.991305</td>\n",
       "      <td>...</td>\n",
       "      <td>5.945878</td>\n",
       "      <td>6.346234</td>\n",
       "      <td>8.913856</td>\n",
       "      <td>3.756979</td>\n",
       "      <td>2.971111</td>\n",
       "      <td>7.542000</td>\n",
       "      <td>10.761741</td>\n",
       "      <td>2.467448</td>\n",
       "      <td>3.882929</td>\n",
       "      <td>4.189969</td>\n",
       "    </tr>\n",
       "    <tr>\n",
       "      <th>2518</th>\n",
       "      <td>11.305489</td>\n",
       "      <td>3.082807</td>\n",
       "      <td>5.490864</td>\n",
       "      <td>10.333142</td>\n",
       "      <td>2.899359</td>\n",
       "      <td>4.316731</td>\n",
       "      <td>1.494228</td>\n",
       "      <td>7.405125</td>\n",
       "      <td>2.282719</td>\n",
       "      <td>2.016091</td>\n",
       "      <td>...</td>\n",
       "      <td>5.999133</td>\n",
       "      <td>6.379132</td>\n",
       "      <td>9.077125</td>\n",
       "      <td>3.800821</td>\n",
       "      <td>2.967875</td>\n",
       "      <td>7.587490</td>\n",
       "      <td>10.697950</td>\n",
       "      <td>2.499490</td>\n",
       "      <td>3.848547</td>\n",
       "      <td>4.222198</td>\n",
       "    </tr>\n",
       "    <tr>\n",
       "      <th>2519</th>\n",
       "      <td>11.453550</td>\n",
       "      <td>3.096778</td>\n",
       "      <td>5.532617</td>\n",
       "      <td>10.385397</td>\n",
       "      <td>2.873113</td>\n",
       "      <td>4.343579</td>\n",
       "      <td>1.506091</td>\n",
       "      <td>7.367289</td>\n",
       "      <td>2.308645</td>\n",
       "      <td>2.006672</td>\n",
       "      <td>...</td>\n",
       "      <td>5.953455</td>\n",
       "      <td>6.315848</td>\n",
       "      <td>9.223770</td>\n",
       "      <td>3.793765</td>\n",
       "      <td>2.924655</td>\n",
       "      <td>7.712762</td>\n",
       "      <td>10.729367</td>\n",
       "      <td>2.446133</td>\n",
       "      <td>3.810824</td>\n",
       "      <td>4.146761</td>\n",
       "    </tr>\n",
       "    <tr>\n",
       "      <th>2520</th>\n",
       "      <td>11.114394</td>\n",
       "      <td>3.104637</td>\n",
       "      <td>5.517970</td>\n",
       "      <td>10.473274</td>\n",
       "      <td>2.854452</td>\n",
       "      <td>4.322707</td>\n",
       "      <td>1.517133</td>\n",
       "      <td>7.257296</td>\n",
       "      <td>2.310003</td>\n",
       "      <td>2.028786</td>\n",
       "      <td>...</td>\n",
       "      <td>6.071508</td>\n",
       "      <td>6.359103</td>\n",
       "      <td>9.251724</td>\n",
       "      <td>3.822734</td>\n",
       "      <td>3.014869</td>\n",
       "      <td>7.628110</td>\n",
       "      <td>10.783569</td>\n",
       "      <td>2.499904</td>\n",
       "      <td>3.767872</td>\n",
       "      <td>4.185275</td>\n",
       "    </tr>\n",
       "  </tbody>\n",
       "</table>\n",
       "<p>2521 rows × 500 columns</p>\n",
       "</div>"
      ],
      "text/plain": [
       "            0         1         2          3         4         5         6    \\\n",
       "0      1.000000  1.000000  1.000000   1.000000  1.000000  1.000000  1.000000   \n",
       "1      1.010114  1.009712  0.987202   0.989111  0.994769  1.013689  0.994781   \n",
       "2      1.009189  1.003595  0.975673   0.986239  1.006411  1.024228  1.004458   \n",
       "3      1.000045  1.010673  0.968185   0.982296  1.010910  1.033055  0.968399   \n",
       "4      1.002036  0.986088  0.986867   0.990374  0.991575  1.027578  0.960038   \n",
       "...         ...       ...       ...        ...       ...       ...       ...   \n",
       "2516  10.942468  2.999868  5.350585  10.430651  2.983294  4.218412  1.470333   \n",
       "2517  11.266802  3.033462  5.339347  10.415543  2.953773  4.285799  1.490742   \n",
       "2518  11.305489  3.082807  5.490864  10.333142  2.899359  4.316731  1.494228   \n",
       "2519  11.453550  3.096778  5.532617  10.385397  2.873113  4.343579  1.506091   \n",
       "2520  11.114394  3.104637  5.517970  10.473274  2.854452  4.322707  1.517133   \n",
       "\n",
       "           7         8         9    ...       490       491       492  \\\n",
       "0     1.000000  1.000000  1.000000  ...  1.000000  1.000000  1.000000   \n",
       "1     1.011784  0.999400  0.987786  ...  1.020016  0.989649  0.989828   \n",
       "2     1.012941  0.989124  0.976129  ...  1.003578  0.975620  0.980423   \n",
       "3     1.016333  0.988374  0.978181  ...  0.989376  0.978544  0.974166   \n",
       "4     1.021674  0.987274  0.974846  ...  0.981276  0.981065  0.968445   \n",
       "...        ...       ...       ...  ...       ...       ...       ...   \n",
       "2516  7.371409  2.330655  1.990747  ...  5.876249  6.265644  8.988642   \n",
       "2517  7.382114  2.327248  1.991305  ...  5.945878  6.346234  8.913856   \n",
       "2518  7.405125  2.282719  2.016091  ...  5.999133  6.379132  9.077125   \n",
       "2519  7.367289  2.308645  2.006672  ...  5.953455  6.315848  9.223770   \n",
       "2520  7.257296  2.310003  2.028786  ...  6.071508  6.359103  9.251724   \n",
       "\n",
       "           493       494       495        496       497       498       499  \n",
       "0     1.000000  1.000000  1.000000   1.000000  1.000000  1.000000  1.000000  \n",
       "1     1.003671  1.005100  1.001305   1.003989  1.010148  0.985372  1.004247  \n",
       "2     0.995029  1.000983  1.000480   1.017057  1.004073  0.982269  1.013851  \n",
       "3     0.986540  0.988868  1.007698   0.999462  0.993776  0.986380  1.012087  \n",
       "4     0.977161  0.991207  1.006069   0.999690  0.995671  0.991850  1.008841  \n",
       "...        ...       ...       ...        ...       ...       ...       ...  \n",
       "2516  3.745974  2.961924  7.448532  10.706892  2.424200  3.837693  4.122236  \n",
       "2517  3.756979  2.971111  7.542000  10.761741  2.467448  3.882929  4.189969  \n",
       "2518  3.800821  2.967875  7.587490  10.697950  2.499490  3.848547  4.222198  \n",
       "2519  3.793765  2.924655  7.712762  10.729367  2.446133  3.810824  4.146761  \n",
       "2520  3.822734  3.014869  7.628110  10.783569  2.499904  3.767872  4.185275  \n",
       "\n",
       "[2521 rows x 500 columns]"
      ]
     },
     "execution_count": 38,
     "metadata": {},
     "output_type": "execute_result"
    }
   ],
   "source": [
    "# Run the Monte Carlo simulation to forecast 10 years cumulative returns\n",
    "MC_tenyear.calc_cumulative_return()\n"
   ]
  },
  {
   "cell_type": "code",
   "execution_count": 39,
   "metadata": {},
   "outputs": [
    {
     "data": {
      "image/png": "[encoded data removed]",
      "text/plain": [
       "<Figure size 432x288 with 1 Axes>"
      ]
     },
     "metadata": {
      "needs_background": "light"
     },
     "output_type": "display_data"
    }
   ],
   "source": [
    "# Visualize the 10-year Monte Carlo simulation by creating an\n",
    "# overlay line plot\n",
    "MC_sim_line_plot = MC_tenyear.plot_simulation()\n"
   ]
  },
  {
   "cell_type": "code",
   "execution_count": 40,
   "metadata": {},
   "outputs": [
    {
     "data": {
      "image/png": "[encoded data removed]",
      "text/plain": [
       "<Figure size 432x288 with 1 Axes>"
      ]
     },
     "metadata": {
      "needs_background": "light"
     },
     "output_type": "display_data"
    }
   ],
   "source": [
    "# Visualize the probability distribution of the 10-year Monte Carlo simulation \n",
    "# by plotting a histogram\n",
    "MC_dist_plot = MC_tenyear.plot_distribution()"
   ]
  },
  {
   "cell_type": "code",
   "execution_count": 41,
   "metadata": {},
   "outputs": [
    {
     "data": {
      "text/plain": [
       "count           500.000000\n",
       "mean              5.785851\n",
       "std               3.436989\n",
       "min               0.992562\n",
       "25%               3.397074\n",
       "50%               4.870354\n",
       "75%               7.217192\n",
       "max              29.939560\n",
       "95% CI Lower      1.718854\n",
       "95% CI Upper     14.007207\n",
       "Name: 2520, dtype: float64"
      ]
     },
     "execution_count": 41,
     "metadata": {},
     "output_type": "execute_result"
    }
   ],
   "source": [
    "# Generate summary statistics from the 10-year Monte Carlo simulation results\n",
    "# Save the results as a variable\n",
    "MC_tenyear_summary = MC_tenyear.summarize_cumulative_return()\n",
    "\n",
    "\n",
    "# Review the 10-year Monte Carlo summary statistics\n",
    "MC_tenyear_summary"
   ]
  },
  {
   "cell_type": "markdown",
   "metadata": {},
   "source": [
    "### Answer the following questions:"
   ]
  },
  {
   "cell_type": "markdown",
   "metadata": {},
   "source": [
    "#### Question: Using the current value of only the stock and bond portion of the member's portfolio and the summary statistics that you generated from the new Monte Carlo simulation, what are the lower and upper bounds for the expected value of the portfolio (with the new weights) with a 95% confidence interval?"
   ]
  },
  {
   "cell_type": "code",
   "execution_count": 51,
   "metadata": {},
   "outputs": [
    {
     "name": "stdout",
     "output_type": "stream",
     "text": [
      "The current balance in the stock and bond portion of the member's portfolio is $73,548.80.\n"
     ]
    }
   ],
   "source": [
    "# Print the current balance of the stock and bond portion of the members portfolio\n",
    "\n",
    "print(f\"The current balance in the stock and bond portion of the member's portfolio is ${total_stocks_bonds:,.2f}.\")\n",
    "\n"
   ]
  },
  {
   "cell_type": "code",
   "execution_count": 55,
   "metadata": {},
   "outputs": [
    {
     "name": "stdout",
     "output_type": "stream",
     "text": [
      "There is a 95% chance that an initial investment of $73,548.80 will generate a portfolio value of between $126,419.67 and $1,030,213.29 in 10 years.\n"
     ]
    }
   ],
   "source": [
    "# Use the lower and upper `95%` confidence intervals to calculate the range of the possible outcomes for the current stock/bond portfolio\n",
    "ci_lower_ten_cumulative_return = MC_tenyear_summary[8]*total_stocks_bonds\n",
    "ci_upper_ten_cumulative_return = MC_tenyear_summary[9]*total_stocks_bonds\n",
    "\n",
    "# Print the result of your calculations\n",
    "print(f\"There is a 95% chance that an initial investment of ${total_stocks_bonds:,.2f} will generate a portfolio value of between ${ci_lower_ten_cumulative_return:,.2f} and ${ci_upper_ten_cumulative_return:,.2f} in 10 years.\")\n",
    "\n"
   ]
  },
  {
   "cell_type": "markdown",
   "metadata": {},
   "source": [
    "#### Question: Will weighting the portfolio more heavily to stocks allow the credit union members to retire after only 10 years?"
   ]
  },
  {
   "cell_type": "raw",
   "metadata": {},
   "source": [
    "It depends on the financial needs of the member.  Also, it depends on where reality falls in the range of possibilities.  If the member ends up toward the bottom of the range, then $126,419 is not enough to cover one year of their expenses if they continue to spend at $12,000 per month.  At the top of the range, $1,030,213 might be enough if the member has another source of income or dramatically reduces their expenses.  So, while weighting the portfolio to increase the proportion of stocks could ncrease the value of the portfolio, I am not sure that 10 years is sufficient to meet the needs of the member.  I would recommend against planning on a 10-year retirement horizen without more information."
   ]
  },
  {
   "cell_type": "code",
   "execution_count": null,
   "metadata": {},
   "outputs": [],
   "source": []
  }
 ],
 "metadata": {
  "kernelspec": {
   "display_name": "Python 3.9.7 64-bit ('base': conda)",
   "language": "python",
   "name": "python397jvsc74a57bd0f5c03b34df633f5a55f03c9fd4bf57224531b1cf45a05bf3195213c2a88d9ef9"
  },
  "language_info": {
   "codemirror_mode": {
    "name": "ipython",
    "version": 3
   },
   "file_extension": ".py",
   "mimetype": "text/x-python",
   "name": "python",
   "nbconvert_exporter": "python",
   "pygments_lexer": "ipython3",
   "version": "3.9.7"
  }
 },
 "nbformat": 4,
 "nbformat_minor": 4
}
